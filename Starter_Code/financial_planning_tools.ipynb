{
 "cells": [
  {
   "cell_type": "markdown",
   "metadata": {},
   "source": [
    "# Financial Planning with APIs and Simulations\n",
    "\n",
    "In this Challenge, you’ll create two financial analysis tools by using a single Jupyter notebook:\n",
    "\n",
    "Part 1: A financial planner for emergencies. The members will be able to use this tool to visualize their current savings. The members can then determine if they have enough reserves for an emergency fund.\n",
    "\n",
    "Part 2: A financial planner for retirement. This tool will forecast the performance of their retirement portfolio in 30 years. To do this, the tool will make an Alpaca API call via the Alpaca SDK to get historical price data for use in Monte Carlo simulations.\n",
    "\n",
    "You’ll use the information from the Monte Carlo simulation to answer questions about the portfolio in your Jupyter notebook.\n",
    "\n"
   ]
  },
  {
   "cell_type": "code",
   "execution_count": 1,
   "metadata": {},
   "outputs": [],
   "source": [
    "# Import the required libraries and dependencies\n",
    "import os\n",
    "import requests\n",
    "import json\n",
    "import pandas as pd\n",
    "from dotenv import load_dotenv\n",
    "import alpaca_trade_api as tradeapi\n",
    "from MCForecastTools import MCSimulation\n",
    "\n",
    "%matplotlib inline"
   ]
  },
  {
   "cell_type": "code",
   "execution_count": 2,
   "metadata": {},
   "outputs": [
    {
     "data": {
      "text/plain": [
       "True"
      ]
     },
     "execution_count": 2,
     "metadata": {},
     "output_type": "execute_result"
    }
   ],
   "source": [
    "# Load the environment variables from the .env file\n",
    "#by calling the load_dotenv function\n",
    "load_dotenv()"
   ]
  },
  {
   "cell_type": "markdown",
   "metadata": {},
   "source": [
    "## Part 1: Create a Financial Planner for Emergencies"
   ]
  },
  {
   "cell_type": "markdown",
   "metadata": {},
   "source": [
    "### Evaluate the Cryptocurrency Wallet by Using the Requests Library\n",
    "\n",
    "In this section, you’ll determine the current value of a member’s cryptocurrency wallet. You’ll collect the current prices for the Bitcoin and Ethereum cryptocurrencies by using the Python Requests library. For the prototype, you’ll assume that the member holds the 1.2 Bitcoins (BTC) and 5.3 Ethereum coins (ETH). To do all this, complete the following steps:\n",
    "\n",
    "1. Create a variable named `monthly_income`, and set its value to `12000`.\n",
    "\n",
    "2. Use the Requests library to get the current price (in US dollars) of Bitcoin (BTC) and Ethereum (ETH) by using the API endpoints that the starter code supplies.\n",
    "\n",
    "3. Navigate the JSON response object to access the current price of each coin, and store each in a variable.\n",
    "\n",
    "    > **Hint** Note the specific identifier for each cryptocurrency in the API JSON response. The Bitcoin identifier is `1`, and the Ethereum identifier is `1027`.\n",
    "\n",
    "4. Calculate the value, in US dollars, of the current amount of each cryptocurrency and of the entire cryptocurrency wallet.\n",
    "\n"
   ]
  },
  {
   "cell_type": "code",
   "execution_count": 3,
   "metadata": {},
   "outputs": [],
   "source": [
    "# The current number of coins for each cryptocurrency asset held in the portfolio.\n",
    "btc_coins = 1.2\n",
    "eth_coins = 5.3"
   ]
  },
  {
   "cell_type": "markdown",
   "metadata": {},
   "source": [
    "#### Step 1: Create a variable named `monthly_income`, and set its value to `12000`."
   ]
  },
  {
   "cell_type": "code",
   "execution_count": 4,
   "metadata": {},
   "outputs": [],
   "source": [
    "# The monthly amount for the member's household income\n",
    "monthly_income = 12000"
   ]
  },
  {
   "cell_type": "markdown",
   "metadata": {},
   "source": [
    "#### Review the endpoint URLs for the API calls to Free Crypto API in order to get the current pricing information for both BTC and ETH."
   ]
  },
  {
   "cell_type": "code",
   "execution_count": 5,
   "metadata": {},
   "outputs": [],
   "source": [
    "# The Free Crypto API Call endpoint URLs for the held cryptocurrency assets\n",
    "btc_url = \"https://api.alternative.me/v2/ticker/Bitcoin/?convert=USD\"\n",
    "eth_url = \"https://api.alternative.me/v2/ticker/Ethereum/?convert=USD\""
   ]
  },
  {
   "cell_type": "markdown",
   "metadata": {},
   "source": [
    "#### Step 2. Use the Requests library to get the current price (in US dollars) of Bitcoin (BTC) and Ethereum (ETH) by using the API endpoints that the starter code supplied."
   ]
  },
  {
   "cell_type": "code",
   "execution_count": 6,
   "metadata": {},
   "outputs": [
    {
     "name": "stdout",
     "output_type": "stream",
     "text": [
      "{\n",
      "    \"data\": {\n",
      "        \"1\": {\n",
      "            \"circulating_supply\": 18924850,\n",
      "            \"id\": 1,\n",
      "            \"last_updated\": 1641795575,\n",
      "            \"max_supply\": 21000000,\n",
      "            \"name\": \"Bitcoin\",\n",
      "            \"quotes\": {\n",
      "                \"USD\": {\n",
      "                    \"market_cap\": 794705189792,\n",
      "                    \"percent_change_1h\": -0.529284889368492,\n",
      "                    \"percent_change_24h\": 0.308508283657306,\n",
      "                    \"percent_change_7d\": -11.3992466180092,\n",
      "                    \"percentage_change_1h\": -0.529284889368492,\n",
      "                    \"percentage_change_24h\": 0.308508283657306,\n",
      "                    \"percentage_change_7d\": -11.3992466180092,\n",
      "                    \"price\": 41985.0,\n",
      "                    \"volume_24h\": 17249122232\n",
      "                }\n",
      "            },\n",
      "            \"rank\": 1,\n",
      "            \"symbol\": \"BTC\",\n",
      "            \"total_supply\": 18924850,\n",
      "            \"website_slug\": \"bitcoin\"\n",
      "        }\n",
      "    },\n",
      "    \"metadata\": {\n",
      "        \"error\": null,\n",
      "        \"num_cryptocurrencies\": 3105,\n",
      "        \"timestamp\": 1641795575\n",
      "    }\n",
      "}\n"
     ]
    }
   ],
   "source": [
    "# Using the Python requests library, make an API call to access the current price of BTC\n",
    "btc_response = requests.get(btc_url).json()\n",
    "# Use the json.dumps function to review the response data from the API call\n",
    "# Use the indent and sort_keys parameters to make the response object readable\n",
    "print(json.dumps(btc_response, indent=4, sort_keys=True))"
   ]
  },
  {
   "cell_type": "code",
   "execution_count": 7,
   "metadata": {},
   "outputs": [
    {
     "name": "stdout",
     "output_type": "stream",
     "text": [
      "{\n",
      "    \"data\": {\n",
      "        \"1027\": {\n",
      "            \"circulating_supply\": 119098148,\n",
      "            \"id\": 1027,\n",
      "            \"last_updated\": 1641795551,\n",
      "            \"max_supply\": 0,\n",
      "            \"name\": \"Ethereum\",\n",
      "            \"quotes\": {\n",
      "                \"USD\": {\n",
      "                    \"market_cap\": 378279465100,\n",
      "                    \"percent_change_1h\": -0.205279167127208,\n",
      "                    \"percent_change_24h\": 1.14235001218515,\n",
      "                    \"percent_change_7d\": -17.3334781853876,\n",
      "                    \"percentage_change_1h\": -0.205279167127208,\n",
      "                    \"percentage_change_24h\": 1.14235001218515,\n",
      "                    \"percentage_change_7d\": -17.3334781853876,\n",
      "                    \"price\": 3170.59,\n",
      "                    \"volume_24h\": 11297675138\n",
      "                }\n",
      "            },\n",
      "            \"rank\": 2,\n",
      "            \"symbol\": \"ETH\",\n",
      "            \"total_supply\": 119098148,\n",
      "            \"website_slug\": \"ethereum\"\n",
      "        }\n",
      "    },\n",
      "    \"metadata\": {\n",
      "        \"error\": null,\n",
      "        \"num_cryptocurrencies\": 3105,\n",
      "        \"timestamp\": 1641795551\n",
      "    }\n",
      "}\n"
     ]
    }
   ],
   "source": [
    "# Using the Python requests library, make an API call to access the current price ETH\n",
    "eth_response = requests.get(eth_url).json()\n",
    "# Use the json.dumps function to review the response data from the API call\n",
    "# Use the indent and sort_keys parameters to make the response object readable\n",
    "print(json.dumps(eth_response, indent=4, sort_keys=True))"
   ]
  },
  {
   "cell_type": "markdown",
   "metadata": {},
   "source": [
    "#### Step 3: Navigate the JSON response object to access the current price of each coin, and store each in a variable."
   ]
  },
  {
   "cell_type": "code",
   "execution_count": 8,
   "metadata": {},
   "outputs": [
    {
     "name": "stdout",
     "output_type": "stream",
     "text": [
      "The current price of BTC is $41985.0\n"
     ]
    }
   ],
   "source": [
    "# Navigate the BTC response object to access the current price of BTC\n",
    "btc_price = btc_response['data']['1']['quotes']['USD']['price']\n",
    "# Print the current price of BTC\n",
    "print(f\"The current price of BTC is ${btc_price}\")"
   ]
  },
  {
   "cell_type": "code",
   "execution_count": 9,
   "metadata": {},
   "outputs": [
    {
     "name": "stdout",
     "output_type": "stream",
     "text": [
      "The current price of ETH is $3170.59\n"
     ]
    }
   ],
   "source": [
    "# Navigate the BTC response object to access the current price of ETH\n",
    "eth_price = eth_response['data']['1027']['quotes']['USD']['price']\n",
    "# Print the current price of ETH\n",
    "print(f\"The current price of ETH is ${eth_price}\")"
   ]
  },
  {
   "cell_type": "markdown",
   "metadata": {},
   "source": [
    "### Step 4: Calculate the value, in US dollars, of the current amount of each cryptocurrency and of the entire cryptocurrency wallet."
   ]
  },
  {
   "cell_type": "code",
   "execution_count": 10,
   "metadata": {},
   "outputs": [
    {
     "name": "stdout",
     "output_type": "stream",
     "text": [
      "The current value of your holding in BTC is $50382.0\n"
     ]
    }
   ],
   "source": [
    "# Compute the current value of the BTC holding \n",
    "btc_value = btc_price * btc_coins\n",
    "# Print current value of your holding in BTC\n",
    "print(f\"The current value of your holding in BTC is ${btc_value}\")"
   ]
  },
  {
   "cell_type": "code",
   "execution_count": 11,
   "metadata": {},
   "outputs": [
    {
     "name": "stdout",
     "output_type": "stream",
     "text": [
      "The current value of your holding in ETH is $16804.127\n"
     ]
    }
   ],
   "source": [
    "# Compute the current value of the ETH holding \n",
    "eth_value = eth_price * eth_coins\n",
    "# Print current value of your holding in ETH\n",
    "print(f\"The current value of your holding in ETH is ${eth_value}\")"
   ]
  },
  {
   "cell_type": "code",
   "execution_count": 12,
   "metadata": {},
   "outputs": [
    {
     "name": "stdout",
     "output_type": "stream",
     "text": [
      "The current cryptocurrency wallet balance is $67186.12700000001\n"
     ]
    }
   ],
   "source": [
    "# Compute the total value of the cryptocurrency wallet\n",
    "# Add the value of the BTC holding to the value of the ETH holding\n",
    "total_crypto_wallet = btc_value + eth_value\n",
    "# Print current cryptocurrency wallet balance\n",
    "print(f\"The current cryptocurrency wallet balance is ${total_crypto_wallet}\")"
   ]
  },
  {
   "cell_type": "markdown",
   "metadata": {},
   "source": [
    "### Evaluate the Stock and Bond Holdings by Using the Alpaca SDK\n",
    "\n",
    "In this section, you’ll determine the current value of a member’s stock and bond holdings. You’ll make an API call to Alpaca via the Alpaca SDK to get the current closing prices of the SPDR S&P 500 ETF Trust (ticker: SPY) and of the iShares Core US Aggregate Bond ETF (ticker: AGG). For the prototype, assume that the member holds 110 shares of SPY, which represents the stock portion of their portfolio, and 200 shares of AGG, which represents the bond portion. To do all this, complete the following steps:\n",
    "\n",
    "1. In the `Starter_Code` folder, create an environment file (`.env`) to store the values of your Alpaca API key and Alpaca secret key.\n",
    "\n",
    "2. Set the variables for the Alpaca API and secret keys. Using the Alpaca SDK, create the Alpaca `tradeapi.REST` object. In this object, include the parameters for the Alpaca API key, the secret key, and the version number.\n",
    "\n",
    "3. Set the following parameters for the Alpaca API call:\n",
    "\n",
    "    - `tickers`: Use the tickers for the member’s stock and bond holdings.\n",
    "\n",
    "    - `timeframe`: Use a time frame of one day.\n",
    "\n",
    "    - `start_date` and `end_date`: Use the same date for these parameters, and format them with the date of the previous weekday (or `2020-08-07`). This is because you want the one closing price for the most-recent trading day.\n",
    "\n",
    "4. Get the current closing prices for `SPY` and `AGG` by using the Alpaca `get_barset` function. Format the response as a Pandas DataFrame by including the `df` property at the end of the `get_barset` function.\n",
    "\n",
    "5. Navigating the Alpaca response DataFrame, select the `SPY` and `AGG` closing prices, and store them as variables.\n",
    "\n",
    "6. Calculate the value, in US dollars, of the current amount of shares in each of the stock and bond portions of the portfolio, and print the results.\n"
   ]
  },
  {
   "cell_type": "markdown",
   "metadata": {},
   "source": [
    "#### Review the total number of shares held in both (SPY) and (AGG)."
   ]
  },
  {
   "cell_type": "code",
   "execution_count": 13,
   "metadata": {},
   "outputs": [],
   "source": [
    "# Current amount of shares held in both the stock (SPY) and bond (AGG) portion of the portfolio.\n",
    "spy_shares = 110\n",
    "agg_shares = 200"
   ]
  },
  {
   "cell_type": "markdown",
   "metadata": {},
   "source": [
    "#### Step 1: In the `Starter_Code` folder, create an environment file (`.env`) to store the values of your Alpaca API key and Alpaca secret key."
   ]
  },
  {
   "cell_type": "markdown",
   "metadata": {},
   "source": [
    "#### Step 2: Set the variables for the Alpaca API and secret keys. Using the Alpaca SDK, create the Alpaca `tradeapi.REST` object. In this object, include the parameters for the Alpaca API key, the secret key, and the version number."
   ]
  },
  {
   "cell_type": "code",
   "execution_count": 14,
   "metadata": {},
   "outputs": [],
   "source": [
    "# Set the variables for the Alpaca API and secret keys\n",
    "alpaca_api_key = os.getenv(\"ALPACA_API_KEY\")\n",
    "alpaca_secret_key = os.getenv(\"ALPACA_SECRET_KEY\")\n",
    "# Create the Alpaca tradeapi.REST object\n",
    "alpaca = tradeapi.REST(\n",
    "    alpaca_api_key,\n",
    "    alpaca_secret_key,\n",
    "    api_version=\"v2\")\n"
   ]
  },
  {
   "cell_type": "markdown",
   "metadata": {},
   "source": [
    "#### Step 3: Set the following parameters for the Alpaca API call:\n",
    "\n",
    "- `tickers`: Use the tickers for the member’s stock and bond holdings.\n",
    "\n",
    "- `timeframe`: Use a time frame of one day.\n",
    "\n",
    "- `start_date` and `end_date`: Use the same date for these parameters, and format them with the date of the previous weekday (or `2020-08-07`). This is because you want the one closing price for the most-recent trading day.\n"
   ]
  },
  {
   "cell_type": "code",
   "execution_count": 20,
   "metadata": {},
   "outputs": [],
   "source": [
    "# Set the tickers for both the bond and stock portion of the portfolio\n",
    "tickers = [\"SPY\", \"AGG\"]\n",
    "\n",
    "# Set timeframe to 1D \n",
    "timeframe = \"1D\"\n",
    "\n",
    "# Format current date as ISO format\n",
    "# Set both the start and end date at the date of your prior weekday \n",
    "# This will give you the closing price of the previous trading day\n",
    "# Alternatively you can use a start and end date of 2020-08-07\n",
    "start_date = pd.Timestamp(\"2020-08-01\", tz=\"America/New_York\").isoformat()\n",
    "end_date = pd.Timestamp(\"2020-08-07\", tz=\"America/New_York\").isoformat()\n"
   ]
  },
  {
   "cell_type": "markdown",
   "metadata": {},
   "source": [
    "#### Step 4: Get the current closing prices for `SPY` and `AGG` by using the Alpaca `get_barset` function. Format the response as a Pandas DataFrame by including the `df` property at the end of the `get_barset` function."
   ]
  },
  {
   "cell_type": "code",
   "execution_count": 46,
   "metadata": {},
   "outputs": [
    {
     "data": {
      "text/html": [
       "<div>\n",
       "<style scoped>\n",
       "    .dataframe tbody tr th:only-of-type {\n",
       "        vertical-align: middle;\n",
       "    }\n",
       "\n",
       "    .dataframe tbody tr th {\n",
       "        vertical-align: top;\n",
       "    }\n",
       "\n",
       "    .dataframe thead tr th {\n",
       "        text-align: left;\n",
       "    }\n",
       "\n",
       "    .dataframe thead tr:last-of-type th {\n",
       "        text-align: right;\n",
       "    }\n",
       "</style>\n",
       "<table border=\"1\" class=\"dataframe\">\n",
       "  <thead>\n",
       "    <tr>\n",
       "      <th></th>\n",
       "      <th colspan=\"5\" halign=\"left\">AGG</th>\n",
       "      <th colspan=\"5\" halign=\"left\">SPY</th>\n",
       "    </tr>\n",
       "    <tr>\n",
       "      <th></th>\n",
       "      <th>open</th>\n",
       "      <th>high</th>\n",
       "      <th>low</th>\n",
       "      <th>close</th>\n",
       "      <th>volume</th>\n",
       "      <th>open</th>\n",
       "      <th>high</th>\n",
       "      <th>low</th>\n",
       "      <th>close</th>\n",
       "      <th>volume</th>\n",
       "    </tr>\n",
       "    <tr>\n",
       "      <th>time</th>\n",
       "      <th></th>\n",
       "      <th></th>\n",
       "      <th></th>\n",
       "      <th></th>\n",
       "      <th></th>\n",
       "      <th></th>\n",
       "      <th></th>\n",
       "      <th></th>\n",
       "      <th></th>\n",
       "      <th></th>\n",
       "    </tr>\n",
       "  </thead>\n",
       "  <tbody>\n",
       "    <tr>\n",
       "      <th>2021-08-18 00:00:00-04:00</th>\n",
       "      <td>115.94</td>\n",
       "      <td>116.030</td>\n",
       "      <td>115.80</td>\n",
       "      <td>115.960</td>\n",
       "      <td>3840678</td>\n",
       "      <td>442.96</td>\n",
       "      <td>444.625</td>\n",
       "      <td>438.9200</td>\n",
       "      <td>439.21</td>\n",
       "      <td>70093163</td>\n",
       "    </tr>\n",
       "    <tr>\n",
       "      <th>2021-08-19 00:00:00-04:00</th>\n",
       "      <td>116.12</td>\n",
       "      <td>116.155</td>\n",
       "      <td>116.02</td>\n",
       "      <td>116.140</td>\n",
       "      <td>4314380</td>\n",
       "      <td>436.27</td>\n",
       "      <td>441.140</td>\n",
       "      <td>436.1200</td>\n",
       "      <td>439.84</td>\n",
       "      <td>84838725</td>\n",
       "    </tr>\n",
       "    <tr>\n",
       "      <th>2021-08-20 00:00:00-04:00</th>\n",
       "      <td>116.18</td>\n",
       "      <td>116.210</td>\n",
       "      <td>116.08</td>\n",
       "      <td>116.150</td>\n",
       "      <td>2672679</td>\n",
       "      <td>440.23</td>\n",
       "      <td>443.710</td>\n",
       "      <td>439.7100</td>\n",
       "      <td>443.33</td>\n",
       "      <td>63120064</td>\n",
       "    </tr>\n",
       "    <tr>\n",
       "      <th>2021-08-23 00:00:00-04:00</th>\n",
       "      <td>116.09</td>\n",
       "      <td>116.180</td>\n",
       "      <td>116.04</td>\n",
       "      <td>116.175</td>\n",
       "      <td>5580303</td>\n",
       "      <td>445.16</td>\n",
       "      <td>448.230</td>\n",
       "      <td>443.4355</td>\n",
       "      <td>447.26</td>\n",
       "      <td>49349485</td>\n",
       "    </tr>\n",
       "    <tr>\n",
       "      <th>2021-08-24 00:00:00-04:00</th>\n",
       "      <td>116.08</td>\n",
       "      <td>116.140</td>\n",
       "      <td>115.96</td>\n",
       "      <td>115.980</td>\n",
       "      <td>4421916</td>\n",
       "      <td>447.97</td>\n",
       "      <td>448.540</td>\n",
       "      <td>447.4200</td>\n",
       "      <td>447.95</td>\n",
       "      <td>33180117</td>\n",
       "    </tr>\n",
       "  </tbody>\n",
       "</table>\n",
       "</div>"
      ],
      "text/plain": [
       "                              AGG                                        SPY  \\\n",
       "                             open     high     low    close   volume    open   \n",
       "time                                                                           \n",
       "2021-08-18 00:00:00-04:00  115.94  116.030  115.80  115.960  3840678  442.96   \n",
       "2021-08-19 00:00:00-04:00  116.12  116.155  116.02  116.140  4314380  436.27   \n",
       "2021-08-20 00:00:00-04:00  116.18  116.210  116.08  116.150  2672679  440.23   \n",
       "2021-08-23 00:00:00-04:00  116.09  116.180  116.04  116.175  5580303  445.16   \n",
       "2021-08-24 00:00:00-04:00  116.08  116.140  115.96  115.980  4421916  447.97   \n",
       "\n",
       "                                                                \n",
       "                              high       low   close    volume  \n",
       "time                                                            \n",
       "2021-08-18 00:00:00-04:00  444.625  438.9200  439.21  70093163  \n",
       "2021-08-19 00:00:00-04:00  441.140  436.1200  439.84  84838725  \n",
       "2021-08-20 00:00:00-04:00  443.710  439.7100  443.33  63120064  \n",
       "2021-08-23 00:00:00-04:00  448.230  443.4355  447.26  49349485  \n",
       "2021-08-24 00:00:00-04:00  448.540  447.4200  447.95  33180117  "
      ]
     },
     "execution_count": 46,
     "metadata": {},
     "output_type": "execute_result"
    }
   ],
   "source": [
    "# Use the Alpaca get_barset function to get current closing prices the portfolio\n",
    "# Be sure to set the `df` property after the function to format the response object as a DataFrame\n",
    "current_closing_portfolio = alpaca.get_barset(\n",
    "    tickers, \n",
    "    timeframe,\n",
    "    start = start_date\n",
    ").df\n",
    "\n",
    "# Review the first 5 rows of the Alpaca DataFrame\n",
    "current_closing_portfolio.head()"
   ]
  },
  {
   "cell_type": "markdown",
   "metadata": {},
   "source": [
    "#### Step 5: Navigating the Alpaca response DataFrame, select the `SPY` and `AGG` closing prices, and store them as variables."
   ]
  },
  {
   "cell_type": "code",
   "execution_count": 48,
   "metadata": {},
   "outputs": [
    {
     "data": {
      "text/plain": [
       "time\n",
       "2022-01-07 00:00:00-05:00    112.500\n",
       "2022-01-06 00:00:00-05:00    112.810\n",
       "2022-01-05 00:00:00-05:00    112.930\n",
       "2022-01-04 00:00:00-05:00    113.290\n",
       "2022-01-03 00:00:00-05:00    113.310\n",
       "                              ...   \n",
       "2021-08-23 00:00:00-04:00    116.175\n",
       "2021-09-15 00:00:00-04:00    116.190\n",
       "2021-09-22 00:00:00-04:00    116.190\n",
       "2021-08-30 00:00:00-04:00    116.210\n",
       "2021-09-14 00:00:00-04:00    116.280\n",
       "Name: close, Length: 100, dtype: float64"
      ]
     },
     "execution_count": 48,
     "metadata": {},
     "output_type": "execute_result"
    }
   ],
   "source": [
    "# Access the closing price for AGG from the Alpaca DataFrame\n",
    "# Converting the value to a floating point number\n",
    "agg_close_price = current_closing_portfolio[\"AGG\"][\"close\"]\n",
    "\n",
    "# Print the AGG closing price\n",
    "agg_close_price = agg_close_price.sort_values(ascending=True)\n",
    "agg_close_price "
   ]
  },
  {
   "cell_type": "code",
   "execution_count": 45,
   "metadata": {},
   "outputs": [
    {
     "data": {
      "text/plain": [
       "time\n",
       "2022-01-03 00:00:00-05:00    477.76\n",
       "2022-01-04 00:00:00-05:00    477.51\n",
       "2021-12-29 00:00:00-05:00    477.46\n",
       "2021-12-27 00:00:00-05:00    477.27\n",
       "2021-12-28 00:00:00-05:00    476.89\n",
       "                              ...  \n",
       "2021-09-21 00:00:00-04:00    433.67\n",
       "2021-10-12 00:00:00-04:00    433.63\n",
       "2021-10-05 00:00:00-04:00    433.05\n",
       "2021-09-30 00:00:00-04:00    429.17\n",
       "2021-10-04 00:00:00-04:00    428.69\n",
       "Name: close, Length: 100, dtype: float64"
      ]
     },
     "execution_count": 45,
     "metadata": {},
     "output_type": "execute_result"
    }
   ],
   "source": [
    "# Access the closing price for SPY from the Alpaca DataFrame\n",
    "# Converting the value to a floating point number\n",
    "spy_close_price = current_closing_portfolio[\"SPY\"][\"close\"]\n",
    "\n",
    "# Print the SPY closing price\n",
    "spy_close_price = spy_close_price.sort_values(ascending=False)\n",
    "spy_close_price"
   ]
  },
  {
   "cell_type": "markdown",
   "metadata": {},
   "source": [
    "#### Step 6: Calculate the value, in US dollars, of the current amount of shares in each of the stock and bond portions of the portfolio, and print the results."
   ]
  },
  {
   "cell_type": "code",
   "execution_count": 49,
   "metadata": {},
   "outputs": [
    {
     "name": "stdout",
     "output_type": "stream",
     "text": [
      "The current value of the bond portfolio is $22500.0\n"
     ]
    }
   ],
   "source": [
    "# Calculate the current value of the bond portion of the portfolio\n",
    "agg_value = agg_close_price[0] * agg_shares\n",
    "\n",
    "# Print the current value of the bond portfolio\n",
    "print(f\"The current value of the bond portfolio is ${agg_value}\")"
   ]
  },
  {
   "cell_type": "code",
   "execution_count": 50,
   "metadata": {},
   "outputs": [
    {
     "name": "stdout",
     "output_type": "stream",
     "text": [
      "The current value of the stock portfolio is $52553.6\n"
     ]
    }
   ],
   "source": [
    "# Calculate the current value of the stock portion of the portfolio\n",
    "spy_value = spy_close_price[0] * spy_shares\n",
    "\n",
    "# Print the current value of the stock portfolio\n",
    "print(f\"The current value of the stock portfolio is ${spy_value}\")"
   ]
  },
  {
   "cell_type": "code",
   "execution_count": 51,
   "metadata": {},
   "outputs": [
    {
     "name": "stdout",
     "output_type": "stream",
     "text": [
      "The current balance of the stock and bond portion of the portfolio is $75053.6\n"
     ]
    }
   ],
   "source": [
    "# Calculate the total value of the stock and bond portion of the portfolio\n",
    "total_stocks_bonds = agg_value + spy_value\n",
    "\n",
    "# Print the current balance of the stock and bond portion of the portfolio\n",
    "print(f\"The current balance of the stock and bond portion of the portfolio is ${total_stocks_bonds}\")"
   ]
  },
  {
   "cell_type": "code",
   "execution_count": 52,
   "metadata": {},
   "outputs": [
    {
     "name": "stdout",
     "output_type": "stream",
     "text": [
      "The current cryptocurrency wallet balance is $142239.727\n"
     ]
    }
   ],
   "source": [
    "# Calculate the total value of the member's entire savings portfolio\n",
    "# Add the value of the cryptocurrency walled to the value of the total stocks and bonds\n",
    "total_portfolio = total_stocks_bonds + total_crypto_wallet\n",
    "\n",
    "# Print current cryptocurrency wallet balance\n",
    "print(f\"The current cryptocurrency wallet balance is ${total_portfolio}\")"
   ]
  },
  {
   "cell_type": "markdown",
   "metadata": {},
   "source": [
    "### Evaluate the Emergency Fund\n",
    "\n",
    "In this section, you’ll use the valuations for the cryptocurrency wallet and for the stock and bond portions of the portfolio to determine if the credit union member has enough savings to build an emergency fund into their financial plan. To do this, complete the following steps:\n",
    "\n",
    "1. Create a Python list named `savings_data` that has two elements. The first element contains the total value of the cryptocurrency wallet. The second element contains the total value of the stock and bond portions of the portfolio.\n",
    "\n",
    "2. Use the `savings_data` list to create a Pandas DataFrame named `savings_df`, and then display this DataFrame. The function to create the DataFrame should take the following three parameters:\n",
    "\n",
    "    - `savings_data`: Use the list that you just created.\n",
    "\n",
    "    - `columns`: Set this parameter equal to a Python list with a single value called `amount`.\n",
    "\n",
    "    - `index`: Set this parameter equal to a Python list with the values of `crypto` and `stock/bond`.\n",
    "\n",
    "3. Use the `savings_df` DataFrame to plot a pie chart that visualizes the composition of the member’s portfolio. The y-axis of the pie chart uses `amount`. Be sure to add a title.\n",
    "\n",
    "4. Using Python, determine if the current portfolio has enough to create an emergency fund as part of the member’s financial plan. Ideally, an emergency fund should equal to three times the member’s monthly income. To do this, implement the following steps:\n",
    "\n",
    "    1. Create a variable named `emergency_fund_value`, and set it equal to three times the value of the member’s `monthly_income` of $12000. (You set this earlier in Part 1).\n",
    "\n",
    "    2. Create a series of three if statements to determine if the member’s total portfolio is large enough to fund the emergency portfolio:\n",
    "\n",
    "        1. If the total portfolio value is greater than the emergency fund value, display a message congratulating the member for having enough money in this fund.\n",
    "\n",
    "        2. Else if the total portfolio value is equal to the emergency fund value, display a message congratulating the member on reaching this important financial goal.\n",
    "\n",
    "        3. Else the total portfolio is less than the emergency fund value, so display a message showing how many dollars away the member is from reaching the goal. (Subtract the total portfolio value from the emergency fund value.)\n"
   ]
  },
  {
   "cell_type": "markdown",
   "metadata": {},
   "source": [
    "#### Step 1: Create a Python list named `savings_data` that has two elements. The first element contains the total value of the cryptocurrency wallet. The second element contains the total value of the stock and bond portions of the portfolio."
   ]
  },
  {
   "cell_type": "code",
   "execution_count": 69,
   "metadata": {},
   "outputs": [
    {
     "data": {
      "text/plain": [
       "[75053.6, 67186.12700000001]"
      ]
     },
     "execution_count": 69,
     "metadata": {},
     "output_type": "execute_result"
    }
   ],
   "source": [
    "# Consolidate financial assets data into a Python list\n",
    "savings_data = [total_stocks_bonds, total_crypto_wallet]\n",
    "\n",
    "# Review the Python list savings_data\n",
    "savings_data"
   ]
  },
  {
   "cell_type": "markdown",
   "metadata": {},
   "source": [
    "#### Step 2: Use the `savings_data` list to create a Pandas DataFrame named `savings_df`, and then display this DataFrame. The function to create the DataFrame should take the following three parameters:\n",
    "\n",
    "- `savings_data`: Use the list that you just created.\n",
    "\n",
    "- `columns`: Set this parameter equal to a Python list with a single value called `amount`.\n",
    "\n",
    "- `index`: Set this parameter equal to a Python list with the values of `crypto` and `stock/bond`.\n"
   ]
  },
  {
   "cell_type": "code",
   "execution_count": 72,
   "metadata": {},
   "outputs": [
    {
     "data": {
      "text/html": [
       "<div>\n",
       "<style scoped>\n",
       "    .dataframe tbody tr th:only-of-type {\n",
       "        vertical-align: middle;\n",
       "    }\n",
       "\n",
       "    .dataframe tbody tr th {\n",
       "        vertical-align: top;\n",
       "    }\n",
       "\n",
       "    .dataframe thead th {\n",
       "        text-align: right;\n",
       "    }\n",
       "</style>\n",
       "<table border=\"1\" class=\"dataframe\">\n",
       "  <thead>\n",
       "    <tr style=\"text-align: right;\">\n",
       "      <th></th>\n",
       "      <th>amount</th>\n",
       "    </tr>\n",
       "  </thead>\n",
       "  <tbody>\n",
       "    <tr>\n",
       "      <th>stock/bond</th>\n",
       "      <td>75053.600</td>\n",
       "    </tr>\n",
       "    <tr>\n",
       "      <th>crypto</th>\n",
       "      <td>67186.127</td>\n",
       "    </tr>\n",
       "  </tbody>\n",
       "</table>\n",
       "</div>"
      ],
      "text/plain": [
       "               amount\n",
       "stock/bond  75053.600\n",
       "crypto      67186.127"
      ]
     },
     "execution_count": 72,
     "metadata": {},
     "output_type": "execute_result"
    }
   ],
   "source": [
    "# Create a Pandas DataFrame called savings_df \n",
    "savings_df = pd.DataFrame(\n",
    "    data=savings_data,\n",
    "    columns=[\"amount\"],\n",
    "    index=[\"stock/bond\", \"crypto\"]\n",
    ")\n",
    "# Display the savings_df DataFrame\n",
    "savings_df"
   ]
  },
  {
   "cell_type": "markdown",
   "metadata": {},
   "source": [
    "#### Step 3: Use the `savings_df` DataFrame to plot a pie chart that visualizes the composition of the member’s portfolio. The y-axis of the pie chart uses `amount`. Be sure to add a title."
   ]
  },
  {
   "cell_type": "code",
   "execution_count": 82,
   "metadata": {},
   "outputs": [
    {
     "data": {
      "text/plain": [
       "<AxesSubplot:title={'center':'Total value of Portfolio'}, ylabel='amount'>"
      ]
     },
     "execution_count": 82,
     "metadata": {},
     "output_type": "execute_result"
    },
    {
     "data": {
      "image/png": "[encoded data removed]",
      "text/plain": [
       "<Figure size 432x288 with 1 Axes>"
      ]
     },
     "metadata": {},
     "output_type": "display_data"
    }
   ],
   "source": [
    "# Plot the total value of the member's portfolio (crypto and stock/bond) in a pie chart\n",
    "savings_df.plot(kind=\"pie\", title=\"Total value of Portfolio\", y=\"amount\")"
   ]
  },
  {
   "cell_type": "markdown",
   "metadata": {},
   "source": [
    "#### Step 4: Using Python, determine if the current portfolio has enough to create an emergency fund as part of the member’s financial plan. Ideally, an emergency fund should equal to three times the member’s monthly income. To do this, implement the following steps:\n",
    "\n",
    "Step 1. Create a variable named `emergency_fund_value`, and set it equal to three times the value of the member’s `monthly_income` of 12000. (You set this earlier in Part 1).\n",
    "\n",
    "Step 2. Create a series of three if statements to determine if the member’s total portfolio is large enough to fund the emergency portfolio:\n",
    "\n",
    "* If the total portfolio value is greater than the emergency fund value, display a message congratulating the member for having enough money in this fund.\n",
    "\n",
    "* Else if the total portfolio value is equal to the emergency fund value, display a message congratulating the member on reaching this important financial goal.\n",
    "\n",
    "* Else the total portfolio is less than the emergency fund value, so display a message showing how many dollars away the member is from reaching the goal. (Subtract the total portfolio value from the emergency fund value.)\n"
   ]
  },
  {
   "cell_type": "markdown",
   "metadata": {},
   "source": [
    "##### Step 4-1: Create a variable named `emergency_fund_value`, and set it equal to three times the value of the member’s `monthly_income` of 12000. (You set this earlier in Part 1)."
   ]
  },
  {
   "cell_type": "code",
   "execution_count": 92,
   "metadata": {},
   "outputs": [],
   "source": [
    "# Create a variable named emergency_fund_value\n",
    "emergency_fund_value = monthly_income * 3"
   ]
  },
  {
   "cell_type": "markdown",
   "metadata": {},
   "source": [
    "##### Step 4-2: Create a series of three if statements to determine if the member’s total portfolio is large enough to fund the emergency portfolio:\n",
    "\n",
    "* If the total portfolio value is greater than the emergency fund value, display a message congratulating the member for having enough money in this fund.\n",
    "\n",
    "* Else if the total portfolio value is equal to the emergency fund value, display a message congratulating the member on reaching this important financial goal.\n",
    "\n",
    "* Else the total portfolio is less than the emergency fund value, so display a message showing how many dollars away the member is from reaching the goal. (Subtract the total portfolio value from the emergency fund value.)"
   ]
  },
  {
   "cell_type": "code",
   "execution_count": 93,
   "metadata": {},
   "outputs": [
    {
     "name": "stdout",
     "output_type": "stream",
     "text": [
      "Congratulations for having enough money in this fund!\n"
     ]
    }
   ],
   "source": [
    "# Evaluate the possibility of creating an emergency fund with 3 conditions:\n",
    "if total_portfolio > emergency_fund_value:\n",
    "    print(f\"Congratulations for having enough money in this fund!\")\n",
    "elif total_portfolio == emergency_fund_value:\n",
    "    print(f\"Congratulations on reaching this important financial goal!\")\n",
    "else:\n",
    "    print(f\"You are ${total_portfolio-emergency_fund_value} away from reaching the goal!\")"
   ]
  },
  {
   "cell_type": "markdown",
   "metadata": {},
   "source": [
    "## Part 2: Create a Financial Planner for Retirement"
   ]
  },
  {
   "cell_type": "markdown",
   "metadata": {},
   "source": [
    "### Create the Monte Carlo Simulation\n",
    "\n",
    "In this section, you’ll use the MCForecastTools library to create a Monte Carlo simulation for the member’s savings portfolio. To do this, complete the following steps:\n",
    "\n",
    "1. Make an API call via the Alpaca SDK to get 3 years of historical closing prices for a traditional 60/40 portfolio split: 60% stocks (SPY) and 40% bonds (AGG).\n",
    "\n",
    "2. Run a Monte Carlo simulation of 500 samples and 30 years for the 60/40 portfolio, and then plot the results.The following image shows the overlay line plot resulting from a simulation with these characteristics. However, because a random number generator is used to run each live Monte Carlo simulation, your image will differ slightly from this exact image:\n",
    "\n",
    "![A screenshot depicts the resulting plot.](Images/5-4-monte-carlo-line-plot.png)\n",
    "\n",
    "3. Plot the probability distribution of the Monte Carlo simulation. Plot the probability distribution of the Monte Carlo simulation. The following image shows the histogram plot resulting from a simulation with these characteristics. However, because a random number generator is used to run each live Monte Carlo simulation, your image will differ slightly from this exact image:\n",
    "\n",
    "![A screenshot depicts the histogram plot.](Images/5-4-monte-carlo-histogram.png)\n",
    "\n",
    "4. Generate the summary statistics for the Monte Carlo simulation.\n",
    "\n"
   ]
  },
  {
   "cell_type": "markdown",
   "metadata": {},
   "source": [
    "#### Step 1: Make an API call via the Alpaca SDK to get 3 years of historical closing prices for a traditional 60/40 portfolio split: 60% stocks (SPY) and 40% bonds (AGG)."
   ]
  },
  {
   "cell_type": "code",
   "execution_count": 94,
   "metadata": {},
   "outputs": [],
   "source": [
    "# Set start and end dates of 3 years back from your current date\n",
    "# Alternatively, you can use an end date of 2020-08-07 and work 3 years back from that date \n",
    "start_date = pd.Timestamp(\"2019-01-08\", tz=\"America/New_York\").isoformat()\n",
    "end_date = pd.Timestamp(\"2022-01-08\", tz=\"America/New_York\").isoformat()\n",
    "\n",
    "# Set number of rows to 1000 to retrieve the maximum amount of rows\n",
    "limit_rows = 1000"
   ]
  },
  {
   "cell_type": "code",
   "execution_count": 105,
   "metadata": {},
   "outputs": [
    {
     "data": {
      "text/html": [
       "<div>\n",
       "<style scoped>\n",
       "    .dataframe tbody tr th:only-of-type {\n",
       "        vertical-align: middle;\n",
       "    }\n",
       "\n",
       "    .dataframe tbody tr th {\n",
       "        vertical-align: top;\n",
       "    }\n",
       "\n",
       "    .dataframe thead tr th {\n",
       "        text-align: left;\n",
       "    }\n",
       "\n",
       "    .dataframe thead tr:last-of-type th {\n",
       "        text-align: right;\n",
       "    }\n",
       "</style>\n",
       "<table border=\"1\" class=\"dataframe\">\n",
       "  <thead>\n",
       "    <tr>\n",
       "      <th></th>\n",
       "      <th colspan=\"5\" halign=\"left\">AGG</th>\n",
       "      <th colspan=\"5\" halign=\"left\">SPY</th>\n",
       "    </tr>\n",
       "    <tr>\n",
       "      <th></th>\n",
       "      <th>open</th>\n",
       "      <th>high</th>\n",
       "      <th>low</th>\n",
       "      <th>close</th>\n",
       "      <th>volume</th>\n",
       "      <th>open</th>\n",
       "      <th>high</th>\n",
       "      <th>low</th>\n",
       "      <th>close</th>\n",
       "      <th>volume</th>\n",
       "    </tr>\n",
       "    <tr>\n",
       "      <th>time</th>\n",
       "      <th></th>\n",
       "      <th></th>\n",
       "      <th></th>\n",
       "      <th></th>\n",
       "      <th></th>\n",
       "      <th></th>\n",
       "      <th></th>\n",
       "      <th></th>\n",
       "      <th></th>\n",
       "      <th></th>\n",
       "    </tr>\n",
       "  </thead>\n",
       "  <tbody>\n",
       "    <tr>\n",
       "      <th>2022-01-03 00:00:00-05:00</th>\n",
       "      <td>113.67</td>\n",
       "      <td>113.6753</td>\n",
       "      <td>113.310</td>\n",
       "      <td>113.31</td>\n",
       "      <td>8906643</td>\n",
       "      <td>476.32</td>\n",
       "      <td>477.85</td>\n",
       "      <td>473.8500</td>\n",
       "      <td>477.76</td>\n",
       "      <td>56128214</td>\n",
       "    </tr>\n",
       "    <tr>\n",
       "      <th>2022-01-04 00:00:00-05:00</th>\n",
       "      <td>113.22</td>\n",
       "      <td>113.3000</td>\n",
       "      <td>113.075</td>\n",
       "      <td>113.29</td>\n",
       "      <td>7615698</td>\n",
       "      <td>479.22</td>\n",
       "      <td>479.98</td>\n",
       "      <td>475.5800</td>\n",
       "      <td>477.51</td>\n",
       "      <td>59093344</td>\n",
       "    </tr>\n",
       "    <tr>\n",
       "      <th>2022-01-05 00:00:00-05:00</th>\n",
       "      <td>113.34</td>\n",
       "      <td>113.3600</td>\n",
       "      <td>112.900</td>\n",
       "      <td>112.93</td>\n",
       "      <td>7686662</td>\n",
       "      <td>477.16</td>\n",
       "      <td>477.98</td>\n",
       "      <td>468.2801</td>\n",
       "      <td>468.38</td>\n",
       "      <td>87411658</td>\n",
       "    </tr>\n",
       "    <tr>\n",
       "      <th>2022-01-06 00:00:00-05:00</th>\n",
       "      <td>112.75</td>\n",
       "      <td>112.8400</td>\n",
       "      <td>112.660</td>\n",
       "      <td>112.81</td>\n",
       "      <td>6812819</td>\n",
       "      <td>467.89</td>\n",
       "      <td>470.82</td>\n",
       "      <td>465.4300</td>\n",
       "      <td>467.93</td>\n",
       "      <td>78577470</td>\n",
       "    </tr>\n",
       "    <tr>\n",
       "      <th>2022-01-07 00:00:00-05:00</th>\n",
       "      <td>112.69</td>\n",
       "      <td>112.7050</td>\n",
       "      <td>112.340</td>\n",
       "      <td>112.50</td>\n",
       "      <td>8338975</td>\n",
       "      <td>467.95</td>\n",
       "      <td>469.20</td>\n",
       "      <td>464.6500</td>\n",
       "      <td>466.12</td>\n",
       "      <td>67943055</td>\n",
       "    </tr>\n",
       "  </tbody>\n",
       "</table>\n",
       "</div>"
      ],
      "text/plain": [
       "                              AGG                                         SPY  \\\n",
       "                             open      high      low   close   volume    open   \n",
       "time                                                                            \n",
       "2022-01-03 00:00:00-05:00  113.67  113.6753  113.310  113.31  8906643  476.32   \n",
       "2022-01-04 00:00:00-05:00  113.22  113.3000  113.075  113.29  7615698  479.22   \n",
       "2022-01-05 00:00:00-05:00  113.34  113.3600  112.900  112.93  7686662  477.16   \n",
       "2022-01-06 00:00:00-05:00  112.75  112.8400  112.660  112.81  6812819  467.89   \n",
       "2022-01-07 00:00:00-05:00  112.69  112.7050  112.340  112.50  8338975  467.95   \n",
       "\n",
       "                                                               \n",
       "                             high       low   close    volume  \n",
       "time                                                           \n",
       "2022-01-03 00:00:00-05:00  477.85  473.8500  477.76  56128214  \n",
       "2022-01-04 00:00:00-05:00  479.98  475.5800  477.51  59093344  \n",
       "2022-01-05 00:00:00-05:00  477.98  468.2801  468.38  87411658  \n",
       "2022-01-06 00:00:00-05:00  470.82  465.4300  467.93  78577470  \n",
       "2022-01-07 00:00:00-05:00  469.20  464.6500  466.12  67943055  "
      ]
     },
     "execution_count": 105,
     "metadata": {},
     "output_type": "execute_result"
    }
   ],
   "source": [
    "# Use the Alpaca get_barset function to make the API call to get the 3 years worth of pricing data\n",
    "# The tickers and timeframe parameters should have been set in Part 1 of this activity \n",
    "# The start and end dates should be updated with the information set above\n",
    "# Remember to add the df property to the end of the call so the response is returned as a DataFrame\n",
    "\n",
    "year_3_ticker_data = alpaca.get_barset(\n",
    "    tickers,\n",
    "    timeframe,\n",
    "    start=start_date,\n",
    "    end=end_date,\n",
    ").df\n",
    "\n",
    "# Display both the first and last five rows of the DataFrame\n",
    "year_3_ticker_data.head()"
   ]
  },
  {
   "cell_type": "code",
   "execution_count": 106,
   "metadata": {},
   "outputs": [
    {
     "data": {
      "text/html": [
       "<div>\n",
       "<style scoped>\n",
       "    .dataframe tbody tr th:only-of-type {\n",
       "        vertical-align: middle;\n",
       "    }\n",
       "\n",
       "    .dataframe tbody tr th {\n",
       "        vertical-align: top;\n",
       "    }\n",
       "\n",
       "    .dataframe thead tr th {\n",
       "        text-align: left;\n",
       "    }\n",
       "\n",
       "    .dataframe thead tr:last-of-type th {\n",
       "        text-align: right;\n",
       "    }\n",
       "</style>\n",
       "<table border=\"1\" class=\"dataframe\">\n",
       "  <thead>\n",
       "    <tr>\n",
       "      <th></th>\n",
       "      <th colspan=\"5\" halign=\"left\">AGG</th>\n",
       "      <th colspan=\"5\" halign=\"left\">SPY</th>\n",
       "    </tr>\n",
       "    <tr>\n",
       "      <th></th>\n",
       "      <th>open</th>\n",
       "      <th>high</th>\n",
       "      <th>low</th>\n",
       "      <th>close</th>\n",
       "      <th>volume</th>\n",
       "      <th>open</th>\n",
       "      <th>high</th>\n",
       "      <th>low</th>\n",
       "      <th>close</th>\n",
       "      <th>volume</th>\n",
       "    </tr>\n",
       "    <tr>\n",
       "      <th>time</th>\n",
       "      <th></th>\n",
       "      <th></th>\n",
       "      <th></th>\n",
       "      <th></th>\n",
       "      <th></th>\n",
       "      <th></th>\n",
       "      <th></th>\n",
       "      <th></th>\n",
       "      <th></th>\n",
       "      <th></th>\n",
       "    </tr>\n",
       "  </thead>\n",
       "  <tbody>\n",
       "    <tr>\n",
       "      <th>2022-01-03 00:00:00-05:00</th>\n",
       "      <td>113.67</td>\n",
       "      <td>113.6753</td>\n",
       "      <td>113.310</td>\n",
       "      <td>113.31</td>\n",
       "      <td>8906643</td>\n",
       "      <td>476.32</td>\n",
       "      <td>477.85</td>\n",
       "      <td>473.8500</td>\n",
       "      <td>477.76</td>\n",
       "      <td>56128214</td>\n",
       "    </tr>\n",
       "    <tr>\n",
       "      <th>2022-01-04 00:00:00-05:00</th>\n",
       "      <td>113.22</td>\n",
       "      <td>113.3000</td>\n",
       "      <td>113.075</td>\n",
       "      <td>113.29</td>\n",
       "      <td>7615698</td>\n",
       "      <td>479.22</td>\n",
       "      <td>479.98</td>\n",
       "      <td>475.5800</td>\n",
       "      <td>477.51</td>\n",
       "      <td>59093344</td>\n",
       "    </tr>\n",
       "    <tr>\n",
       "      <th>2022-01-05 00:00:00-05:00</th>\n",
       "      <td>113.34</td>\n",
       "      <td>113.3600</td>\n",
       "      <td>112.900</td>\n",
       "      <td>112.93</td>\n",
       "      <td>7686662</td>\n",
       "      <td>477.16</td>\n",
       "      <td>477.98</td>\n",
       "      <td>468.2801</td>\n",
       "      <td>468.38</td>\n",
       "      <td>87411658</td>\n",
       "    </tr>\n",
       "    <tr>\n",
       "      <th>2022-01-06 00:00:00-05:00</th>\n",
       "      <td>112.75</td>\n",
       "      <td>112.8400</td>\n",
       "      <td>112.660</td>\n",
       "      <td>112.81</td>\n",
       "      <td>6812819</td>\n",
       "      <td>467.89</td>\n",
       "      <td>470.82</td>\n",
       "      <td>465.4300</td>\n",
       "      <td>467.93</td>\n",
       "      <td>78577470</td>\n",
       "    </tr>\n",
       "    <tr>\n",
       "      <th>2022-01-07 00:00:00-05:00</th>\n",
       "      <td>112.69</td>\n",
       "      <td>112.7050</td>\n",
       "      <td>112.340</td>\n",
       "      <td>112.50</td>\n",
       "      <td>8338975</td>\n",
       "      <td>467.95</td>\n",
       "      <td>469.20</td>\n",
       "      <td>464.6500</td>\n",
       "      <td>466.12</td>\n",
       "      <td>67943055</td>\n",
       "    </tr>\n",
       "  </tbody>\n",
       "</table>\n",
       "</div>"
      ],
      "text/plain": [
       "                              AGG                                         SPY  \\\n",
       "                             open      high      low   close   volume    open   \n",
       "time                                                                            \n",
       "2022-01-03 00:00:00-05:00  113.67  113.6753  113.310  113.31  8906643  476.32   \n",
       "2022-01-04 00:00:00-05:00  113.22  113.3000  113.075  113.29  7615698  479.22   \n",
       "2022-01-05 00:00:00-05:00  113.34  113.3600  112.900  112.93  7686662  477.16   \n",
       "2022-01-06 00:00:00-05:00  112.75  112.8400  112.660  112.81  6812819  467.89   \n",
       "2022-01-07 00:00:00-05:00  112.69  112.7050  112.340  112.50  8338975  467.95   \n",
       "\n",
       "                                                               \n",
       "                             high       low   close    volume  \n",
       "time                                                           \n",
       "2022-01-03 00:00:00-05:00  477.85  473.8500  477.76  56128214  \n",
       "2022-01-04 00:00:00-05:00  479.98  475.5800  477.51  59093344  \n",
       "2022-01-05 00:00:00-05:00  477.98  468.2801  468.38  87411658  \n",
       "2022-01-06 00:00:00-05:00  470.82  465.4300  467.93  78577470  \n",
       "2022-01-07 00:00:00-05:00  469.20  464.6500  466.12  67943055  "
      ]
     },
     "execution_count": 106,
     "metadata": {},
     "output_type": "execute_result"
    }
   ],
   "source": [
    "year_3_ticker_data.tail()"
   ]
  },
  {
   "cell_type": "markdown",
   "metadata": {},
   "source": [
    "#### Step 2: Run a Monte Carlo simulation of 500 samples and 30 years for the 60/40 portfolio, and then plot the results."
   ]
  },
  {
   "cell_type": "code",
   "execution_count": 124,
   "metadata": {},
   "outputs": [
    {
     "data": {
      "text/html": [
       "<div>\n",
       "<style scoped>\n",
       "    .dataframe tbody tr th:only-of-type {\n",
       "        vertical-align: middle;\n",
       "    }\n",
       "\n",
       "    .dataframe tbody tr th {\n",
       "        vertical-align: top;\n",
       "    }\n",
       "\n",
       "    .dataframe thead tr th {\n",
       "        text-align: left;\n",
       "    }\n",
       "\n",
       "    .dataframe thead tr:last-of-type th {\n",
       "        text-align: right;\n",
       "    }\n",
       "</style>\n",
       "<table border=\"1\" class=\"dataframe\">\n",
       "  <thead>\n",
       "    <tr>\n",
       "      <th></th>\n",
       "      <th colspan=\"6\" halign=\"left\">AGG</th>\n",
       "      <th colspan=\"6\" halign=\"left\">SPY</th>\n",
       "    </tr>\n",
       "    <tr>\n",
       "      <th></th>\n",
       "      <th>open</th>\n",
       "      <th>high</th>\n",
       "      <th>low</th>\n",
       "      <th>close</th>\n",
       "      <th>volume</th>\n",
       "      <th>daily_return</th>\n",
       "      <th>open</th>\n",
       "      <th>high</th>\n",
       "      <th>low</th>\n",
       "      <th>close</th>\n",
       "      <th>volume</th>\n",
       "      <th>daily_return</th>\n",
       "    </tr>\n",
       "    <tr>\n",
       "      <th>time</th>\n",
       "      <th></th>\n",
       "      <th></th>\n",
       "      <th></th>\n",
       "      <th></th>\n",
       "      <th></th>\n",
       "      <th></th>\n",
       "      <th></th>\n",
       "      <th></th>\n",
       "      <th></th>\n",
       "      <th></th>\n",
       "      <th></th>\n",
       "      <th></th>\n",
       "    </tr>\n",
       "  </thead>\n",
       "  <tbody>\n",
       "    <tr>\n",
       "      <th>2021-08-18 00:00:00-04:00</th>\n",
       "      <td>115.94</td>\n",
       "      <td>116.030</td>\n",
       "      <td>115.80</td>\n",
       "      <td>115.960</td>\n",
       "      <td>3840678</td>\n",
       "      <td>NaN</td>\n",
       "      <td>442.96</td>\n",
       "      <td>444.625</td>\n",
       "      <td>438.9200</td>\n",
       "      <td>439.21</td>\n",
       "      <td>70093163</td>\n",
       "      <td>NaN</td>\n",
       "    </tr>\n",
       "    <tr>\n",
       "      <th>2021-08-19 00:00:00-04:00</th>\n",
       "      <td>116.12</td>\n",
       "      <td>116.155</td>\n",
       "      <td>116.02</td>\n",
       "      <td>116.140</td>\n",
       "      <td>4314380</td>\n",
       "      <td>0.001552</td>\n",
       "      <td>436.27</td>\n",
       "      <td>441.140</td>\n",
       "      <td>436.1200</td>\n",
       "      <td>439.84</td>\n",
       "      <td>84838725</td>\n",
       "      <td>0.001434</td>\n",
       "    </tr>\n",
       "    <tr>\n",
       "      <th>2021-08-20 00:00:00-04:00</th>\n",
       "      <td>116.18</td>\n",
       "      <td>116.210</td>\n",
       "      <td>116.08</td>\n",
       "      <td>116.150</td>\n",
       "      <td>2672679</td>\n",
       "      <td>0.000086</td>\n",
       "      <td>440.23</td>\n",
       "      <td>443.710</td>\n",
       "      <td>439.7100</td>\n",
       "      <td>443.33</td>\n",
       "      <td>63120064</td>\n",
       "      <td>0.007935</td>\n",
       "    </tr>\n",
       "    <tr>\n",
       "      <th>2021-08-23 00:00:00-04:00</th>\n",
       "      <td>116.09</td>\n",
       "      <td>116.180</td>\n",
       "      <td>116.04</td>\n",
       "      <td>116.175</td>\n",
       "      <td>5580303</td>\n",
       "      <td>0.000215</td>\n",
       "      <td>445.16</td>\n",
       "      <td>448.230</td>\n",
       "      <td>443.4355</td>\n",
       "      <td>447.26</td>\n",
       "      <td>49349485</td>\n",
       "      <td>0.008865</td>\n",
       "    </tr>\n",
       "    <tr>\n",
       "      <th>2021-08-24 00:00:00-04:00</th>\n",
       "      <td>116.08</td>\n",
       "      <td>116.140</td>\n",
       "      <td>115.96</td>\n",
       "      <td>115.980</td>\n",
       "      <td>4421916</td>\n",
       "      <td>-0.001679</td>\n",
       "      <td>447.97</td>\n",
       "      <td>448.540</td>\n",
       "      <td>447.4200</td>\n",
       "      <td>447.95</td>\n",
       "      <td>33180117</td>\n",
       "      <td>0.001543</td>\n",
       "    </tr>\n",
       "  </tbody>\n",
       "</table>\n",
       "</div>"
      ],
      "text/plain": [
       "                              AGG                                     \\\n",
       "                             open     high     low    close   volume   \n",
       "time                                                                   \n",
       "2021-08-18 00:00:00-04:00  115.94  116.030  115.80  115.960  3840678   \n",
       "2021-08-19 00:00:00-04:00  116.12  116.155  116.02  116.140  4314380   \n",
       "2021-08-20 00:00:00-04:00  116.18  116.210  116.08  116.150  2672679   \n",
       "2021-08-23 00:00:00-04:00  116.09  116.180  116.04  116.175  5580303   \n",
       "2021-08-24 00:00:00-04:00  116.08  116.140  115.96  115.980  4421916   \n",
       "\n",
       "                                           SPY                             \\\n",
       "                          daily_return    open     high       low   close   \n",
       "time                                                                        \n",
       "2021-08-18 00:00:00-04:00          NaN  442.96  444.625  438.9200  439.21   \n",
       "2021-08-19 00:00:00-04:00     0.001552  436.27  441.140  436.1200  439.84   \n",
       "2021-08-20 00:00:00-04:00     0.000086  440.23  443.710  439.7100  443.33   \n",
       "2021-08-23 00:00:00-04:00     0.000215  445.16  448.230  443.4355  447.26   \n",
       "2021-08-24 00:00:00-04:00    -0.001679  447.97  448.540  447.4200  447.95   \n",
       "\n",
       "                                                  \n",
       "                             volume daily_return  \n",
       "time                                              \n",
       "2021-08-18 00:00:00-04:00  70093163          NaN  \n",
       "2021-08-19 00:00:00-04:00  84838725     0.001434  \n",
       "2021-08-20 00:00:00-04:00  63120064     0.007935  \n",
       "2021-08-23 00:00:00-04:00  49349485     0.008865  \n",
       "2021-08-24 00:00:00-04:00  33180117     0.001543  "
      ]
     },
     "execution_count": 124,
     "metadata": {},
     "output_type": "execute_result"
    }
   ],
   "source": [
    "# Configure the Monte Carlo simulation to forecast 30 years cumulative returns\n",
    "# The weights should be split 40% to AGG and 60% to SPY.\n",
    "# Run 500 samples.\n",
    "thirty_year_sumulation = MCSimulation(\n",
    "    portfolio_data = current_closing_portfolio,\n",
    "    weights = [.60,.40],\n",
    "    num_simulation = 500,\n",
    "    num_trading_days = 252 *30\n",
    ")\n",
    "# Review the simulation input data\n",
    "thirty_year_sumulation.portfolio_data.head()"
   ]
  },
  {
   "cell_type": "code",
   "execution_count": 125,
   "metadata": {},
   "outputs": [
    {
     "name": "stdout",
     "output_type": "stream",
     "text": [
      "Running Monte Carlo simulation number 0.\n",
      "Running Monte Carlo simulation number 10.\n",
      "Running Monte Carlo simulation number 20.\n",
      "Running Monte Carlo simulation number 30.\n",
      "Running Monte Carlo simulation number 40.\n",
      "Running Monte Carlo simulation number 50.\n",
      "Running Monte Carlo simulation number 60.\n",
      "Running Monte Carlo simulation number 70.\n",
      "Running Monte Carlo simulation number 80.\n",
      "Running Monte Carlo simulation number 90.\n",
      "Running Monte Carlo simulation number 100.\n"
     ]
    },
    {
     "name": "stderr",
     "output_type": "stream",
     "text": [
      "C:\\Users\\Olena (FINTECH II)\\Financial_Planner\\Starter_Code\\MCForecastTools.py:117: PerformanceWarning: DataFrame is highly fragmented.  This is usually the result of calling `frame.insert` many times, which has poor performance.  Consider joining all columns at once using pd.concat(axis=1) instead.  To get a de-fragmented frame, use `newframe = frame.copy()`\n",
      "  portfolio_cumulative_returns[n] = (1 + sim_df.fillna(0)).cumprod()\n"
     ]
    },
    {
     "name": "stdout",
     "output_type": "stream",
     "text": [
      "Running Monte Carlo simulation number 110.\n",
      "Running Monte Carlo simulation number 120.\n",
      "Running Monte Carlo simulation number 130.\n",
      "Running Monte Carlo simulation number 140.\n",
      "Running Monte Carlo simulation number 150.\n",
      "Running Monte Carlo simulation number 160.\n",
      "Running Monte Carlo simulation number 170.\n",
      "Running Monte Carlo simulation number 180.\n",
      "Running Monte Carlo simulation number 190.\n",
      "Running Monte Carlo simulation number 200.\n",
      "Running Monte Carlo simulation number 210.\n",
      "Running Monte Carlo simulation number 220.\n",
      "Running Monte Carlo simulation number 230.\n",
      "Running Monte Carlo simulation number 240.\n",
      "Running Monte Carlo simulation number 250.\n",
      "Running Monte Carlo simulation number 260.\n",
      "Running Monte Carlo simulation number 270.\n",
      "Running Monte Carlo simulation number 280.\n",
      "Running Monte Carlo simulation number 290.\n",
      "Running Monte Carlo simulation number 300.\n",
      "Running Monte Carlo simulation number 310.\n",
      "Running Monte Carlo simulation number 320.\n",
      "Running Monte Carlo simulation number 330.\n",
      "Running Monte Carlo simulation number 340.\n",
      "Running Monte Carlo simulation number 350.\n",
      "Running Monte Carlo simulation number 360.\n",
      "Running Monte Carlo simulation number 370.\n",
      "Running Monte Carlo simulation number 380.\n",
      "Running Monte Carlo simulation number 390.\n",
      "Running Monte Carlo simulation number 400.\n",
      "Running Monte Carlo simulation number 410.\n",
      "Running Monte Carlo simulation number 420.\n",
      "Running Monte Carlo simulation number 430.\n",
      "Running Monte Carlo simulation number 440.\n",
      "Running Monte Carlo simulation number 450.\n",
      "Running Monte Carlo simulation number 460.\n",
      "Running Monte Carlo simulation number 470.\n",
      "Running Monte Carlo simulation number 480.\n",
      "Running Monte Carlo simulation number 490.\n"
     ]
    },
    {
     "data": {
      "text/html": [
       "<div>\n",
       "<style scoped>\n",
       "    .dataframe tbody tr th:only-of-type {\n",
       "        vertical-align: middle;\n",
       "    }\n",
       "\n",
       "    .dataframe tbody tr th {\n",
       "        vertical-align: top;\n",
       "    }\n",
       "\n",
       "    .dataframe thead th {\n",
       "        text-align: right;\n",
       "    }\n",
       "</style>\n",
       "<table border=\"1\" class=\"dataframe\">\n",
       "  <thead>\n",
       "    <tr style=\"text-align: right;\">\n",
       "      <th></th>\n",
       "      <th>0</th>\n",
       "      <th>1</th>\n",
       "      <th>2</th>\n",
       "      <th>3</th>\n",
       "      <th>4</th>\n",
       "      <th>5</th>\n",
       "      <th>6</th>\n",
       "      <th>7</th>\n",
       "      <th>8</th>\n",
       "      <th>9</th>\n",
       "      <th>...</th>\n",
       "      <th>490</th>\n",
       "      <th>491</th>\n",
       "      <th>492</th>\n",
       "      <th>493</th>\n",
       "      <th>494</th>\n",
       "      <th>495</th>\n",
       "      <th>496</th>\n",
       "      <th>497</th>\n",
       "      <th>498</th>\n",
       "      <th>499</th>\n",
       "    </tr>\n",
       "  </thead>\n",
       "  <tbody>\n",
       "    <tr>\n",
       "      <th>0</th>\n",
       "      <td>1.000000</td>\n",
       "      <td>1.000000</td>\n",
       "      <td>1.000000</td>\n",
       "      <td>1.000000</td>\n",
       "      <td>1.000000</td>\n",
       "      <td>1.000000</td>\n",
       "      <td>1.000000</td>\n",
       "      <td>1.000000</td>\n",
       "      <td>1.000000</td>\n",
       "      <td>1.000000</td>\n",
       "      <td>...</td>\n",
       "      <td>1.000000</td>\n",
       "      <td>1.000000</td>\n",
       "      <td>1.000000</td>\n",
       "      <td>1.000000</td>\n",
       "      <td>1.000000</td>\n",
       "      <td>1.000000</td>\n",
       "      <td>1.000000</td>\n",
       "      <td>1.000000</td>\n",
       "      <td>1.000000</td>\n",
       "      <td>1.000000</td>\n",
       "    </tr>\n",
       "    <tr>\n",
       "      <th>1</th>\n",
       "      <td>0.996774</td>\n",
       "      <td>0.995915</td>\n",
       "      <td>0.999194</td>\n",
       "      <td>0.997827</td>\n",
       "      <td>1.007242</td>\n",
       "      <td>0.997958</td>\n",
       "      <td>1.005996</td>\n",
       "      <td>1.001877</td>\n",
       "      <td>0.990859</td>\n",
       "      <td>1.009316</td>\n",
       "      <td>...</td>\n",
       "      <td>0.994457</td>\n",
       "      <td>0.999794</td>\n",
       "      <td>0.999289</td>\n",
       "      <td>1.002106</td>\n",
       "      <td>1.001046</td>\n",
       "      <td>0.999417</td>\n",
       "      <td>0.991589</td>\n",
       "      <td>1.002225</td>\n",
       "      <td>1.001940</td>\n",
       "      <td>0.998765</td>\n",
       "    </tr>\n",
       "    <tr>\n",
       "      <th>2</th>\n",
       "      <td>0.992329</td>\n",
       "      <td>0.994628</td>\n",
       "      <td>1.005911</td>\n",
       "      <td>0.988830</td>\n",
       "      <td>1.009277</td>\n",
       "      <td>1.003762</td>\n",
       "      <td>1.009585</td>\n",
       "      <td>1.004628</td>\n",
       "      <td>0.998705</td>\n",
       "      <td>1.010601</td>\n",
       "      <td>...</td>\n",
       "      <td>0.994682</td>\n",
       "      <td>1.002722</td>\n",
       "      <td>0.997651</td>\n",
       "      <td>1.001715</td>\n",
       "      <td>0.997811</td>\n",
       "      <td>0.999877</td>\n",
       "      <td>0.993163</td>\n",
       "      <td>1.011328</td>\n",
       "      <td>1.003736</td>\n",
       "      <td>1.003222</td>\n",
       "    </tr>\n",
       "    <tr>\n",
       "      <th>3</th>\n",
       "      <td>0.995646</td>\n",
       "      <td>0.994643</td>\n",
       "      <td>1.002077</td>\n",
       "      <td>0.990673</td>\n",
       "      <td>1.012596</td>\n",
       "      <td>1.008829</td>\n",
       "      <td>1.007040</td>\n",
       "      <td>0.997849</td>\n",
       "      <td>0.997725</td>\n",
       "      <td>1.011912</td>\n",
       "      <td>...</td>\n",
       "      <td>0.992179</td>\n",
       "      <td>1.002582</td>\n",
       "      <td>0.994693</td>\n",
       "      <td>1.000949</td>\n",
       "      <td>0.995215</td>\n",
       "      <td>0.996432</td>\n",
       "      <td>0.994838</td>\n",
       "      <td>1.010822</td>\n",
       "      <td>1.009857</td>\n",
       "      <td>1.005346</td>\n",
       "    </tr>\n",
       "    <tr>\n",
       "      <th>4</th>\n",
       "      <td>0.992895</td>\n",
       "      <td>0.997916</td>\n",
       "      <td>0.998484</td>\n",
       "      <td>0.991985</td>\n",
       "      <td>1.020436</td>\n",
       "      <td>1.008226</td>\n",
       "      <td>1.011835</td>\n",
       "      <td>1.001516</td>\n",
       "      <td>0.996497</td>\n",
       "      <td>1.013465</td>\n",
       "      <td>...</td>\n",
       "      <td>0.994876</td>\n",
       "      <td>1.007792</td>\n",
       "      <td>0.993703</td>\n",
       "      <td>1.005338</td>\n",
       "      <td>0.993936</td>\n",
       "      <td>1.000837</td>\n",
       "      <td>0.992542</td>\n",
       "      <td>1.007640</td>\n",
       "      <td>1.008866</td>\n",
       "      <td>1.005449</td>\n",
       "    </tr>\n",
       "    <tr>\n",
       "      <th>...</th>\n",
       "      <td>...</td>\n",
       "      <td>...</td>\n",
       "      <td>...</td>\n",
       "      <td>...</td>\n",
       "      <td>...</td>\n",
       "      <td>...</td>\n",
       "      <td>...</td>\n",
       "      <td>...</td>\n",
       "      <td>...</td>\n",
       "      <td>...</td>\n",
       "      <td>...</td>\n",
       "      <td>...</td>\n",
       "      <td>...</td>\n",
       "      <td>...</td>\n",
       "      <td>...</td>\n",
       "      <td>...</td>\n",
       "      <td>...</td>\n",
       "      <td>...</td>\n",
       "      <td>...</td>\n",
       "      <td>...</td>\n",
       "      <td>...</td>\n",
       "    </tr>\n",
       "    <tr>\n",
       "      <th>7556</th>\n",
       "      <td>1.316031</td>\n",
       "      <td>1.680582</td>\n",
       "      <td>1.455036</td>\n",
       "      <td>1.165872</td>\n",
       "      <td>1.195598</td>\n",
       "      <td>1.797721</td>\n",
       "      <td>1.564682</td>\n",
       "      <td>1.717367</td>\n",
       "      <td>1.758784</td>\n",
       "      <td>3.017306</td>\n",
       "      <td>...</td>\n",
       "      <td>2.023575</td>\n",
       "      <td>1.387481</td>\n",
       "      <td>2.434249</td>\n",
       "      <td>2.094528</td>\n",
       "      <td>2.933865</td>\n",
       "      <td>1.440615</td>\n",
       "      <td>2.367269</td>\n",
       "      <td>1.391211</td>\n",
       "      <td>2.498715</td>\n",
       "      <td>1.124523</td>\n",
       "    </tr>\n",
       "    <tr>\n",
       "      <th>7557</th>\n",
       "      <td>1.311727</td>\n",
       "      <td>1.676536</td>\n",
       "      <td>1.464377</td>\n",
       "      <td>1.167810</td>\n",
       "      <td>1.195075</td>\n",
       "      <td>1.802507</td>\n",
       "      <td>1.565809</td>\n",
       "      <td>1.718019</td>\n",
       "      <td>1.752440</td>\n",
       "      <td>3.024742</td>\n",
       "      <td>...</td>\n",
       "      <td>2.016172</td>\n",
       "      <td>1.384979</td>\n",
       "      <td>2.442118</td>\n",
       "      <td>2.093546</td>\n",
       "      <td>2.947037</td>\n",
       "      <td>1.438808</td>\n",
       "      <td>2.369434</td>\n",
       "      <td>1.387404</td>\n",
       "      <td>2.489664</td>\n",
       "      <td>1.119063</td>\n",
       "    </tr>\n",
       "    <tr>\n",
       "      <th>7558</th>\n",
       "      <td>1.314682</td>\n",
       "      <td>1.664048</td>\n",
       "      <td>1.463021</td>\n",
       "      <td>1.169259</td>\n",
       "      <td>1.191140</td>\n",
       "      <td>1.796010</td>\n",
       "      <td>1.573315</td>\n",
       "      <td>1.722437</td>\n",
       "      <td>1.744839</td>\n",
       "      <td>3.040389</td>\n",
       "      <td>...</td>\n",
       "      <td>2.013218</td>\n",
       "      <td>1.381495</td>\n",
       "      <td>2.441056</td>\n",
       "      <td>2.092666</td>\n",
       "      <td>2.943796</td>\n",
       "      <td>1.438397</td>\n",
       "      <td>2.369334</td>\n",
       "      <td>1.392141</td>\n",
       "      <td>2.480231</td>\n",
       "      <td>1.122041</td>\n",
       "    </tr>\n",
       "    <tr>\n",
       "      <th>7559</th>\n",
       "      <td>1.318395</td>\n",
       "      <td>1.659093</td>\n",
       "      <td>1.466138</td>\n",
       "      <td>1.167242</td>\n",
       "      <td>1.189632</td>\n",
       "      <td>1.806159</td>\n",
       "      <td>1.570219</td>\n",
       "      <td>1.715462</td>\n",
       "      <td>1.742947</td>\n",
       "      <td>3.038942</td>\n",
       "      <td>...</td>\n",
       "      <td>2.013139</td>\n",
       "      <td>1.381427</td>\n",
       "      <td>2.436053</td>\n",
       "      <td>2.097587</td>\n",
       "      <td>2.934627</td>\n",
       "      <td>1.434098</td>\n",
       "      <td>2.378963</td>\n",
       "      <td>1.387398</td>\n",
       "      <td>2.489614</td>\n",
       "      <td>1.126954</td>\n",
       "    </tr>\n",
       "    <tr>\n",
       "      <th>7560</th>\n",
       "      <td>1.311126</td>\n",
       "      <td>1.665008</td>\n",
       "      <td>1.480060</td>\n",
       "      <td>1.169800</td>\n",
       "      <td>1.192387</td>\n",
       "      <td>1.810483</td>\n",
       "      <td>1.564738</td>\n",
       "      <td>1.711253</td>\n",
       "      <td>1.741057</td>\n",
       "      <td>3.022482</td>\n",
       "      <td>...</td>\n",
       "      <td>2.016316</td>\n",
       "      <td>1.381108</td>\n",
       "      <td>2.429901</td>\n",
       "      <td>2.088714</td>\n",
       "      <td>2.942290</td>\n",
       "      <td>1.432864</td>\n",
       "      <td>2.366196</td>\n",
       "      <td>1.383469</td>\n",
       "      <td>2.486827</td>\n",
       "      <td>1.131378</td>\n",
       "    </tr>\n",
       "  </tbody>\n",
       "</table>\n",
       "<p>7561 rows × 500 columns</p>\n",
       "</div>"
      ],
      "text/plain": [
       "           0         1         2         3         4         5         6    \\\n",
       "0     1.000000  1.000000  1.000000  1.000000  1.000000  1.000000  1.000000   \n",
       "1     0.996774  0.995915  0.999194  0.997827  1.007242  0.997958  1.005996   \n",
       "2     0.992329  0.994628  1.005911  0.988830  1.009277  1.003762  1.009585   \n",
       "3     0.995646  0.994643  1.002077  0.990673  1.012596  1.008829  1.007040   \n",
       "4     0.992895  0.997916  0.998484  0.991985  1.020436  1.008226  1.011835   \n",
       "...        ...       ...       ...       ...       ...       ...       ...   \n",
       "7556  1.316031  1.680582  1.455036  1.165872  1.195598  1.797721  1.564682   \n",
       "7557  1.311727  1.676536  1.464377  1.167810  1.195075  1.802507  1.565809   \n",
       "7558  1.314682  1.664048  1.463021  1.169259  1.191140  1.796010  1.573315   \n",
       "7559  1.318395  1.659093  1.466138  1.167242  1.189632  1.806159  1.570219   \n",
       "7560  1.311126  1.665008  1.480060  1.169800  1.192387  1.810483  1.564738   \n",
       "\n",
       "           7         8         9    ...       490       491       492  \\\n",
       "0     1.000000  1.000000  1.000000  ...  1.000000  1.000000  1.000000   \n",
       "1     1.001877  0.990859  1.009316  ...  0.994457  0.999794  0.999289   \n",
       "2     1.004628  0.998705  1.010601  ...  0.994682  1.002722  0.997651   \n",
       "3     0.997849  0.997725  1.011912  ...  0.992179  1.002582  0.994693   \n",
       "4     1.001516  0.996497  1.013465  ...  0.994876  1.007792  0.993703   \n",
       "...        ...       ...       ...  ...       ...       ...       ...   \n",
       "7556  1.717367  1.758784  3.017306  ...  2.023575  1.387481  2.434249   \n",
       "7557  1.718019  1.752440  3.024742  ...  2.016172  1.384979  2.442118   \n",
       "7558  1.722437  1.744839  3.040389  ...  2.013218  1.381495  2.441056   \n",
       "7559  1.715462  1.742947  3.038942  ...  2.013139  1.381427  2.436053   \n",
       "7560  1.711253  1.741057  3.022482  ...  2.016316  1.381108  2.429901   \n",
       "\n",
       "           493       494       495       496       497       498       499  \n",
       "0     1.000000  1.000000  1.000000  1.000000  1.000000  1.000000  1.000000  \n",
       "1     1.002106  1.001046  0.999417  0.991589  1.002225  1.001940  0.998765  \n",
       "2     1.001715  0.997811  0.999877  0.993163  1.011328  1.003736  1.003222  \n",
       "3     1.000949  0.995215  0.996432  0.994838  1.010822  1.009857  1.005346  \n",
       "4     1.005338  0.993936  1.000837  0.992542  1.007640  1.008866  1.005449  \n",
       "...        ...       ...       ...       ...       ...       ...       ...  \n",
       "7556  2.094528  2.933865  1.440615  2.367269  1.391211  2.498715  1.124523  \n",
       "7557  2.093546  2.947037  1.438808  2.369434  1.387404  2.489664  1.119063  \n",
       "7558  2.092666  2.943796  1.438397  2.369334  1.392141  2.480231  1.122041  \n",
       "7559  2.097587  2.934627  1.434098  2.378963  1.387398  2.489614  1.126954  \n",
       "7560  2.088714  2.942290  1.432864  2.366196  1.383469  2.486827  1.131378  \n",
       "\n",
       "[7561 rows x 500 columns]"
      ]
     },
     "execution_count": 125,
     "metadata": {},
     "output_type": "execute_result"
    }
   ],
   "source": [
    "# Run the Monte Carlo simulation to forecast 30 years cumulative returns\n",
    "thirty_year_sumulation.calc_cumulative_return()"
   ]
  },
  {
   "cell_type": "code",
   "execution_count": 126,
   "metadata": {},
   "outputs": [
    {
     "data": {
      "text/plain": [
       "<AxesSubplot:title={'center':'500 Simulations of Cumulative Portfolio Return Trajectories Over the Next 7560 Trading Days.'}>"
      ]
     },
     "execution_count": 126,
     "metadata": {},
     "output_type": "execute_result"
    },
    {
     "data": {
      "image/png": "[encoded data removed]",
      "text/plain": [
       "<Figure size 432x288 with 1 Axes>"
      ]
     },
     "metadata": {
      "needs_background": "light"
     },
     "output_type": "display_data"
    }
   ],
   "source": [
    "# Visualize the 30-year Monte Carlo simulation by creating an\n",
    "# overlay line plot\n",
    "thirty_year_sumulation.plot_simulation()"
   ]
  },
  {
   "cell_type": "markdown",
   "metadata": {},
   "source": [
    "#### Step 3: Plot the probability distribution of the Monte Carlo simulation."
   ]
  },
  {
   "cell_type": "code",
   "execution_count": 127,
   "metadata": {},
   "outputs": [
    {
     "data": {
      "text/plain": [
       "<AxesSubplot:title={'center':'Distribution of Final Cumuluative Returns Across All 500 Simulations'}, ylabel='Frequency'>"
      ]
     },
     "execution_count": 127,
     "metadata": {},
     "output_type": "execute_result"
    },
    {
     "data": {
      "image/png": "[encoded data removed]",
      "text/plain": [
       "<Figure size 432x288 with 1 Axes>"
      ]
     },
     "metadata": {
      "needs_background": "light"
     },
     "output_type": "display_data"
    }
   ],
   "source": [
    "# Visualize the probability distribution of the 30-year Monte Carlo simulation \n",
    "# by plotting a histogram\n",
    "thirty_year_sumulation.plot_distribution()"
   ]
  },
  {
   "cell_type": "markdown",
   "metadata": {},
   "source": [
    "#### Step 4: Generate the summary statistics for the Monte Carlo simulation."
   ]
  },
  {
   "cell_type": "code",
   "execution_count": 130,
   "metadata": {},
   "outputs": [
    {
     "name": "stdout",
     "output_type": "stream",
     "text": [
      "count           500.000000\n",
      "mean              1.761461\n",
      "std               0.596860\n",
      "min               0.601837\n",
      "25%               1.347593\n",
      "50%               1.646070\n",
      "75%               2.056554\n",
      "max               4.060740\n",
      "95% CI Lower      0.922121\n",
      "95% CI Upper      3.192714\n",
      "Name: 7560, dtype: float64\n"
     ]
    }
   ],
   "source": [
    "# Generate summary statistics from the 30-year Monte Carlo simulation results\n",
    "# Save the results as a variable\n",
    "thirty_year_simulation_statistics = thirty_year_sumulation.summarize_cumulative_return()\n",
    "\n",
    "# Review the 30-year Monte Carlo summary statistics\n",
    "print(thirty_year_simulation_statistics)"
   ]
  },
  {
   "cell_type": "markdown",
   "metadata": {},
   "source": [
    "### Analyze the Retirement Portfolio Forecasts\n",
    "\n",
    "Using the current value of only the stock and bond portion of the member's portfolio and the summary statistics that you generated from the Monte Carlo simulation, answer the following question in your Jupyter notebook:\n",
    "\n",
    "-  What are the lower and upper bounds for the expected value of the portfolio with a 95% confidence interval?"
   ]
  },
  {
   "cell_type": "code",
   "execution_count": 139,
   "metadata": {},
   "outputs": [
    {
     "name": "stdout",
     "output_type": "stream",
     "text": [
      "The current balance of the stock and bond portion of the portfolio is $75053.6\n"
     ]
    }
   ],
   "source": [
    "# Print the current balance of the stock and bond portion of the members portfolio\n",
    "print(f\"The current balance of the stock and bond portion of the portfolio is ${total_stocks_bonds}\")"
   ]
  },
  {
   "cell_type": "code",
   "execution_count": 149,
   "metadata": {},
   "outputs": [
    {
     "name": "stdout",
     "output_type": "stream",
     "text": [
      "There is a 95% chance that the current balance of the stock and bond portion in the portfolio over the next 30 years will end within in the range of $69208.52 and $239624.7.\n"
     ]
    }
   ],
   "source": [
    "# Use the lower and upper `95%` confidence intervals to calculate the range of the possible outcomes for the current stock/bond portfolio\n",
    "ci_lower_thirty_cumulative_return = round(thirty_year_simulation_statistics[8]*total_stocks_bonds,2)\n",
    "ci_upper_thirty_cumulative_return = round(thirty_year_simulation_statistics[9]*total_stocks_bonds,2)\n",
    "\n",
    "# Print the result of your calculations\n",
    "print(f\"There is a 95% chance that the current balance of the stock and bond portion in the portfolio\"\n",
    "      f\" over the next 30 years will end within in the range of\"\n",
    "      f\" ${ci_lower_thirty_cumulative_return} and ${ci_upper_thirty_cumulative_return}.\")"
   ]
  },
  {
   "cell_type": "markdown",
   "metadata": {},
   "source": [
    "### Forecast Cumulative Returns in 10 Years\n",
    "\n",
    "The CTO of the credit union is impressed with your work on these planning tools but wonders if 30 years is a long time to wait until retirement. So, your next task is to adjust the retirement portfolio and run a new Monte Carlo simulation to find out if the changes will allow members to retire earlier.\n",
    "\n",
    "For this new Monte Carlo simulation, do the following: \n",
    "\n",
    "- Forecast the cumulative returns for 10 years from now. Because of the shortened investment horizon (30 years to 10 years), the portfolio needs to invest more heavily in the riskier asset&mdash;that is, stock&mdash;to help accumulate wealth for retirement. \n",
    "\n",
    "- Adjust the weights of the retirement portfolio so that the composition for the Monte Carlo simulation consists of 20% bonds and 80% stocks. \n",
    "\n",
    "- Run the simulation over 500 samples, and use the same data that the API call to Alpaca generated.\n",
    "\n",
    "- Based on the new Monte Carlo simulation, answer the following questions in your Jupyter notebook:\n",
    "\n",
    "    - Using the current value of only the stock and bond portion of the member's portfolio and the summary statistics that you generated from the new Monte Carlo simulation, what are the lower and upper bounds for the expected value of the portfolio (with the new weights) with a 95% confidence interval?\n",
    "\n",
    "    - Will weighting the portfolio more heavily toward stocks allow the credit union members to retire after only 10 years?\n"
   ]
  },
  {
   "cell_type": "code",
   "execution_count": 142,
   "metadata": {},
   "outputs": [
    {
     "data": {
      "text/html": [
       "<div>\n",
       "<style scoped>\n",
       "    .dataframe tbody tr th:only-of-type {\n",
       "        vertical-align: middle;\n",
       "    }\n",
       "\n",
       "    .dataframe tbody tr th {\n",
       "        vertical-align: top;\n",
       "    }\n",
       "\n",
       "    .dataframe thead tr th {\n",
       "        text-align: left;\n",
       "    }\n",
       "\n",
       "    .dataframe thead tr:last-of-type th {\n",
       "        text-align: right;\n",
       "    }\n",
       "</style>\n",
       "<table border=\"1\" class=\"dataframe\">\n",
       "  <thead>\n",
       "    <tr>\n",
       "      <th></th>\n",
       "      <th colspan=\"6\" halign=\"left\">AGG</th>\n",
       "      <th colspan=\"6\" halign=\"left\">SPY</th>\n",
       "    </tr>\n",
       "    <tr>\n",
       "      <th></th>\n",
       "      <th>open</th>\n",
       "      <th>high</th>\n",
       "      <th>low</th>\n",
       "      <th>close</th>\n",
       "      <th>volume</th>\n",
       "      <th>daily_return</th>\n",
       "      <th>open</th>\n",
       "      <th>high</th>\n",
       "      <th>low</th>\n",
       "      <th>close</th>\n",
       "      <th>volume</th>\n",
       "      <th>daily_return</th>\n",
       "    </tr>\n",
       "    <tr>\n",
       "      <th>time</th>\n",
       "      <th></th>\n",
       "      <th></th>\n",
       "      <th></th>\n",
       "      <th></th>\n",
       "      <th></th>\n",
       "      <th></th>\n",
       "      <th></th>\n",
       "      <th></th>\n",
       "      <th></th>\n",
       "      <th></th>\n",
       "      <th></th>\n",
       "      <th></th>\n",
       "    </tr>\n",
       "  </thead>\n",
       "  <tbody>\n",
       "    <tr>\n",
       "      <th>2021-08-18 00:00:00-04:00</th>\n",
       "      <td>115.94</td>\n",
       "      <td>116.030</td>\n",
       "      <td>115.80</td>\n",
       "      <td>115.960</td>\n",
       "      <td>3840678</td>\n",
       "      <td>NaN</td>\n",
       "      <td>442.96</td>\n",
       "      <td>444.625</td>\n",
       "      <td>438.9200</td>\n",
       "      <td>439.21</td>\n",
       "      <td>70093163</td>\n",
       "      <td>NaN</td>\n",
       "    </tr>\n",
       "    <tr>\n",
       "      <th>2021-08-19 00:00:00-04:00</th>\n",
       "      <td>116.12</td>\n",
       "      <td>116.155</td>\n",
       "      <td>116.02</td>\n",
       "      <td>116.140</td>\n",
       "      <td>4314380</td>\n",
       "      <td>0.001552</td>\n",
       "      <td>436.27</td>\n",
       "      <td>441.140</td>\n",
       "      <td>436.1200</td>\n",
       "      <td>439.84</td>\n",
       "      <td>84838725</td>\n",
       "      <td>0.001434</td>\n",
       "    </tr>\n",
       "    <tr>\n",
       "      <th>2021-08-20 00:00:00-04:00</th>\n",
       "      <td>116.18</td>\n",
       "      <td>116.210</td>\n",
       "      <td>116.08</td>\n",
       "      <td>116.150</td>\n",
       "      <td>2672679</td>\n",
       "      <td>0.000086</td>\n",
       "      <td>440.23</td>\n",
       "      <td>443.710</td>\n",
       "      <td>439.7100</td>\n",
       "      <td>443.33</td>\n",
       "      <td>63120064</td>\n",
       "      <td>0.007935</td>\n",
       "    </tr>\n",
       "    <tr>\n",
       "      <th>2021-08-23 00:00:00-04:00</th>\n",
       "      <td>116.09</td>\n",
       "      <td>116.180</td>\n",
       "      <td>116.04</td>\n",
       "      <td>116.175</td>\n",
       "      <td>5580303</td>\n",
       "      <td>0.000215</td>\n",
       "      <td>445.16</td>\n",
       "      <td>448.230</td>\n",
       "      <td>443.4355</td>\n",
       "      <td>447.26</td>\n",
       "      <td>49349485</td>\n",
       "      <td>0.008865</td>\n",
       "    </tr>\n",
       "    <tr>\n",
       "      <th>2021-08-24 00:00:00-04:00</th>\n",
       "      <td>116.08</td>\n",
       "      <td>116.140</td>\n",
       "      <td>115.96</td>\n",
       "      <td>115.980</td>\n",
       "      <td>4421916</td>\n",
       "      <td>-0.001679</td>\n",
       "      <td>447.97</td>\n",
       "      <td>448.540</td>\n",
       "      <td>447.4200</td>\n",
       "      <td>447.95</td>\n",
       "      <td>33180117</td>\n",
       "      <td>0.001543</td>\n",
       "    </tr>\n",
       "  </tbody>\n",
       "</table>\n",
       "</div>"
      ],
      "text/plain": [
       "                              AGG                                     \\\n",
       "                             open     high     low    close   volume   \n",
       "time                                                                   \n",
       "2021-08-18 00:00:00-04:00  115.94  116.030  115.80  115.960  3840678   \n",
       "2021-08-19 00:00:00-04:00  116.12  116.155  116.02  116.140  4314380   \n",
       "2021-08-20 00:00:00-04:00  116.18  116.210  116.08  116.150  2672679   \n",
       "2021-08-23 00:00:00-04:00  116.09  116.180  116.04  116.175  5580303   \n",
       "2021-08-24 00:00:00-04:00  116.08  116.140  115.96  115.980  4421916   \n",
       "\n",
       "                                           SPY                             \\\n",
       "                          daily_return    open     high       low   close   \n",
       "time                                                                        \n",
       "2021-08-18 00:00:00-04:00          NaN  442.96  444.625  438.9200  439.21   \n",
       "2021-08-19 00:00:00-04:00     0.001552  436.27  441.140  436.1200  439.84   \n",
       "2021-08-20 00:00:00-04:00     0.000086  440.23  443.710  439.7100  443.33   \n",
       "2021-08-23 00:00:00-04:00     0.000215  445.16  448.230  443.4355  447.26   \n",
       "2021-08-24 00:00:00-04:00    -0.001679  447.97  448.540  447.4200  447.95   \n",
       "\n",
       "                                                  \n",
       "                             volume daily_return  \n",
       "time                                              \n",
       "2021-08-18 00:00:00-04:00  70093163          NaN  \n",
       "2021-08-19 00:00:00-04:00  84838725     0.001434  \n",
       "2021-08-20 00:00:00-04:00  63120064     0.007935  \n",
       "2021-08-23 00:00:00-04:00  49349485     0.008865  \n",
       "2021-08-24 00:00:00-04:00  33180117     0.001543  "
      ]
     },
     "execution_count": 142,
     "metadata": {},
     "output_type": "execute_result"
    }
   ],
   "source": [
    "# Configure a Monte Carlo simulation to forecast 10 years cumulative returns\n",
    "# The weights should be split 20% to AGG and 80% to SPY.\n",
    "# Run 500 samples.\n",
    "ten_year_sumulation = MCSimulation(\n",
    "    portfolio_data = current_closing_portfolio,\n",
    "    weights = [.20,.80],\n",
    "    num_simulation = 500,\n",
    "    num_trading_days = 252 *10\n",
    ")\n",
    "# Review the simulation input data\n",
    "ten_year_sumulation.portfolio_data.head()"
   ]
  },
  {
   "cell_type": "code",
   "execution_count": 143,
   "metadata": {},
   "outputs": [
    {
     "name": "stdout",
     "output_type": "stream",
     "text": [
      "Running Monte Carlo simulation number 0.\n",
      "Running Monte Carlo simulation number 10.\n",
      "Running Monte Carlo simulation number 20.\n",
      "Running Monte Carlo simulation number 30.\n",
      "Running Monte Carlo simulation number 40.\n",
      "Running Monte Carlo simulation number 50.\n",
      "Running Monte Carlo simulation number 60.\n",
      "Running Monte Carlo simulation number 70.\n",
      "Running Monte Carlo simulation number 80.\n",
      "Running Monte Carlo simulation number 90.\n",
      "Running Monte Carlo simulation number 100.\n"
     ]
    },
    {
     "name": "stderr",
     "output_type": "stream",
     "text": [
      "C:\\Users\\Olena (FINTECH II)\\Financial_Planner\\Starter_Code\\MCForecastTools.py:117: PerformanceWarning: DataFrame is highly fragmented.  This is usually the result of calling `frame.insert` many times, which has poor performance.  Consider joining all columns at once using pd.concat(axis=1) instead.  To get a de-fragmented frame, use `newframe = frame.copy()`\n",
      "  portfolio_cumulative_returns[n] = (1 + sim_df.fillna(0)).cumprod()\n"
     ]
    },
    {
     "name": "stdout",
     "output_type": "stream",
     "text": [
      "Running Monte Carlo simulation number 110.\n",
      "Running Monte Carlo simulation number 120.\n",
      "Running Monte Carlo simulation number 130.\n",
      "Running Monte Carlo simulation number 140.\n",
      "Running Monte Carlo simulation number 150.\n",
      "Running Monte Carlo simulation number 160.\n",
      "Running Monte Carlo simulation number 170.\n",
      "Running Monte Carlo simulation number 180.\n",
      "Running Monte Carlo simulation number 190.\n",
      "Running Monte Carlo simulation number 200.\n",
      "Running Monte Carlo simulation number 210.\n",
      "Running Monte Carlo simulation number 220.\n",
      "Running Monte Carlo simulation number 230.\n",
      "Running Monte Carlo simulation number 240.\n",
      "Running Monte Carlo simulation number 250.\n",
      "Running Monte Carlo simulation number 260.\n",
      "Running Monte Carlo simulation number 270.\n",
      "Running Monte Carlo simulation number 280.\n",
      "Running Monte Carlo simulation number 290.\n",
      "Running Monte Carlo simulation number 300.\n",
      "Running Monte Carlo simulation number 310.\n",
      "Running Monte Carlo simulation number 320.\n",
      "Running Monte Carlo simulation number 330.\n",
      "Running Monte Carlo simulation number 340.\n",
      "Running Monte Carlo simulation number 350.\n",
      "Running Monte Carlo simulation number 360.\n",
      "Running Monte Carlo simulation number 370.\n",
      "Running Monte Carlo simulation number 380.\n",
      "Running Monte Carlo simulation number 390.\n",
      "Running Monte Carlo simulation number 400.\n",
      "Running Monte Carlo simulation number 410.\n",
      "Running Monte Carlo simulation number 420.\n",
      "Running Monte Carlo simulation number 430.\n",
      "Running Monte Carlo simulation number 440.\n",
      "Running Monte Carlo simulation number 450.\n",
      "Running Monte Carlo simulation number 460.\n",
      "Running Monte Carlo simulation number 470.\n",
      "Running Monte Carlo simulation number 480.\n",
      "Running Monte Carlo simulation number 490.\n"
     ]
    },
    {
     "data": {
      "text/html": [
       "<div>\n",
       "<style scoped>\n",
       "    .dataframe tbody tr th:only-of-type {\n",
       "        vertical-align: middle;\n",
       "    }\n",
       "\n",
       "    .dataframe tbody tr th {\n",
       "        vertical-align: top;\n",
       "    }\n",
       "\n",
       "    .dataframe thead th {\n",
       "        text-align: right;\n",
       "    }\n",
       "</style>\n",
       "<table border=\"1\" class=\"dataframe\">\n",
       "  <thead>\n",
       "    <tr style=\"text-align: right;\">\n",
       "      <th></th>\n",
       "      <th>0</th>\n",
       "      <th>1</th>\n",
       "      <th>2</th>\n",
       "      <th>3</th>\n",
       "      <th>4</th>\n",
       "      <th>5</th>\n",
       "      <th>6</th>\n",
       "      <th>7</th>\n",
       "      <th>8</th>\n",
       "      <th>9</th>\n",
       "      <th>...</th>\n",
       "      <th>490</th>\n",
       "      <th>491</th>\n",
       "      <th>492</th>\n",
       "      <th>493</th>\n",
       "      <th>494</th>\n",
       "      <th>495</th>\n",
       "      <th>496</th>\n",
       "      <th>497</th>\n",
       "      <th>498</th>\n",
       "      <th>499</th>\n",
       "    </tr>\n",
       "  </thead>\n",
       "  <tbody>\n",
       "    <tr>\n",
       "      <th>0</th>\n",
       "      <td>1.000000</td>\n",
       "      <td>1.000000</td>\n",
       "      <td>1.000000</td>\n",
       "      <td>1.000000</td>\n",
       "      <td>1.000000</td>\n",
       "      <td>1.000000</td>\n",
       "      <td>1.000000</td>\n",
       "      <td>1.000000</td>\n",
       "      <td>1.000000</td>\n",
       "      <td>1.000000</td>\n",
       "      <td>...</td>\n",
       "      <td>1.000000</td>\n",
       "      <td>1.000000</td>\n",
       "      <td>1.000000</td>\n",
       "      <td>1.000000</td>\n",
       "      <td>1.000000</td>\n",
       "      <td>1.000000</td>\n",
       "      <td>1.000000</td>\n",
       "      <td>1.000000</td>\n",
       "      <td>1.000000</td>\n",
       "      <td>1.000000</td>\n",
       "    </tr>\n",
       "    <tr>\n",
       "      <th>1</th>\n",
       "      <td>1.015346</td>\n",
       "      <td>0.997194</td>\n",
       "      <td>0.995166</td>\n",
       "      <td>0.993433</td>\n",
       "      <td>1.000606</td>\n",
       "      <td>0.998749</td>\n",
       "      <td>1.009886</td>\n",
       "      <td>1.005265</td>\n",
       "      <td>1.007107</td>\n",
       "      <td>1.001591</td>\n",
       "      <td>...</td>\n",
       "      <td>1.009539</td>\n",
       "      <td>0.995246</td>\n",
       "      <td>0.997318</td>\n",
       "      <td>0.990760</td>\n",
       "      <td>1.001082</td>\n",
       "      <td>1.001760</td>\n",
       "      <td>1.007415</td>\n",
       "      <td>1.002890</td>\n",
       "      <td>0.984415</td>\n",
       "      <td>1.000270</td>\n",
       "    </tr>\n",
       "    <tr>\n",
       "      <th>2</th>\n",
       "      <td>1.028168</td>\n",
       "      <td>0.997180</td>\n",
       "      <td>1.003863</td>\n",
       "      <td>1.001440</td>\n",
       "      <td>1.004213</td>\n",
       "      <td>1.009270</td>\n",
       "      <td>1.015837</td>\n",
       "      <td>1.003611</td>\n",
       "      <td>1.005466</td>\n",
       "      <td>0.994978</td>\n",
       "      <td>...</td>\n",
       "      <td>1.011906</td>\n",
       "      <td>0.998303</td>\n",
       "      <td>1.001365</td>\n",
       "      <td>0.976606</td>\n",
       "      <td>1.004907</td>\n",
       "      <td>1.010471</td>\n",
       "      <td>0.997363</td>\n",
       "      <td>1.003758</td>\n",
       "      <td>0.989770</td>\n",
       "      <td>1.004506</td>\n",
       "    </tr>\n",
       "    <tr>\n",
       "      <th>3</th>\n",
       "      <td>1.027683</td>\n",
       "      <td>1.011865</td>\n",
       "      <td>1.020582</td>\n",
       "      <td>0.989493</td>\n",
       "      <td>1.001600</td>\n",
       "      <td>1.005970</td>\n",
       "      <td>1.015501</td>\n",
       "      <td>0.998054</td>\n",
       "      <td>1.005587</td>\n",
       "      <td>0.989895</td>\n",
       "      <td>...</td>\n",
       "      <td>1.009636</td>\n",
       "      <td>1.000401</td>\n",
       "      <td>0.998557</td>\n",
       "      <td>0.971407</td>\n",
       "      <td>1.004933</td>\n",
       "      <td>0.999748</td>\n",
       "      <td>0.999305</td>\n",
       "      <td>1.011954</td>\n",
       "      <td>0.987767</td>\n",
       "      <td>1.002813</td>\n",
       "    </tr>\n",
       "    <tr>\n",
       "      <th>4</th>\n",
       "      <td>1.035912</td>\n",
       "      <td>1.008616</td>\n",
       "      <td>1.005347</td>\n",
       "      <td>0.980931</td>\n",
       "      <td>1.014801</td>\n",
       "      <td>1.007823</td>\n",
       "      <td>1.004646</td>\n",
       "      <td>1.001261</td>\n",
       "      <td>1.005030</td>\n",
       "      <td>0.997488</td>\n",
       "      <td>...</td>\n",
       "      <td>1.009284</td>\n",
       "      <td>1.005877</td>\n",
       "      <td>0.993016</td>\n",
       "      <td>0.971195</td>\n",
       "      <td>1.003479</td>\n",
       "      <td>0.999532</td>\n",
       "      <td>0.995821</td>\n",
       "      <td>1.019327</td>\n",
       "      <td>0.983640</td>\n",
       "      <td>1.004821</td>\n",
       "    </tr>\n",
       "    <tr>\n",
       "      <th>...</th>\n",
       "      <td>...</td>\n",
       "      <td>...</td>\n",
       "      <td>...</td>\n",
       "      <td>...</td>\n",
       "      <td>...</td>\n",
       "      <td>...</td>\n",
       "      <td>...</td>\n",
       "      <td>...</td>\n",
       "      <td>...</td>\n",
       "      <td>...</td>\n",
       "      <td>...</td>\n",
       "      <td>...</td>\n",
       "      <td>...</td>\n",
       "      <td>...</td>\n",
       "      <td>...</td>\n",
       "      <td>...</td>\n",
       "      <td>...</td>\n",
       "      <td>...</td>\n",
       "      <td>...</td>\n",
       "      <td>...</td>\n",
       "      <td>...</td>\n",
       "    </tr>\n",
       "    <tr>\n",
       "      <th>2516</th>\n",
       "      <td>2.526978</td>\n",
       "      <td>4.095963</td>\n",
       "      <td>3.569610</td>\n",
       "      <td>2.984334</td>\n",
       "      <td>2.755548</td>\n",
       "      <td>3.714752</td>\n",
       "      <td>5.140120</td>\n",
       "      <td>1.922195</td>\n",
       "      <td>5.110243</td>\n",
       "      <td>4.354182</td>\n",
       "      <td>...</td>\n",
       "      <td>2.868496</td>\n",
       "      <td>3.471457</td>\n",
       "      <td>2.009576</td>\n",
       "      <td>3.419293</td>\n",
       "      <td>3.398295</td>\n",
       "      <td>4.166072</td>\n",
       "      <td>3.040963</td>\n",
       "      <td>2.325057</td>\n",
       "      <td>4.342693</td>\n",
       "      <td>4.369368</td>\n",
       "    </tr>\n",
       "    <tr>\n",
       "      <th>2517</th>\n",
       "      <td>2.502138</td>\n",
       "      <td>4.089611</td>\n",
       "      <td>3.589710</td>\n",
       "      <td>3.006541</td>\n",
       "      <td>2.765283</td>\n",
       "      <td>3.749166</td>\n",
       "      <td>5.121293</td>\n",
       "      <td>1.925413</td>\n",
       "      <td>5.046435</td>\n",
       "      <td>4.376933</td>\n",
       "      <td>...</td>\n",
       "      <td>2.863390</td>\n",
       "      <td>3.466384</td>\n",
       "      <td>2.017555</td>\n",
       "      <td>3.431182</td>\n",
       "      <td>3.380194</td>\n",
       "      <td>4.099272</td>\n",
       "      <td>3.011065</td>\n",
       "      <td>2.329125</td>\n",
       "      <td>4.328733</td>\n",
       "      <td>4.431980</td>\n",
       "    </tr>\n",
       "    <tr>\n",
       "      <th>2518</th>\n",
       "      <td>2.490648</td>\n",
       "      <td>4.079156</td>\n",
       "      <td>3.582531</td>\n",
       "      <td>2.999825</td>\n",
       "      <td>2.751623</td>\n",
       "      <td>3.765344</td>\n",
       "      <td>5.108846</td>\n",
       "      <td>1.967620</td>\n",
       "      <td>5.023329</td>\n",
       "      <td>4.392627</td>\n",
       "      <td>...</td>\n",
       "      <td>2.874347</td>\n",
       "      <td>3.465192</td>\n",
       "      <td>2.011705</td>\n",
       "      <td>3.426268</td>\n",
       "      <td>3.365099</td>\n",
       "      <td>4.104454</td>\n",
       "      <td>3.062699</td>\n",
       "      <td>2.347123</td>\n",
       "      <td>4.349875</td>\n",
       "      <td>4.447103</td>\n",
       "    </tr>\n",
       "    <tr>\n",
       "      <th>2519</th>\n",
       "      <td>2.505430</td>\n",
       "      <td>4.063975</td>\n",
       "      <td>3.573077</td>\n",
       "      <td>2.995917</td>\n",
       "      <td>2.738564</td>\n",
       "      <td>3.814616</td>\n",
       "      <td>5.069526</td>\n",
       "      <td>1.993344</td>\n",
       "      <td>4.991439</td>\n",
       "      <td>4.405615</td>\n",
       "      <td>...</td>\n",
       "      <td>2.870670</td>\n",
       "      <td>3.478264</td>\n",
       "      <td>2.014236</td>\n",
       "      <td>3.448058</td>\n",
       "      <td>3.326879</td>\n",
       "      <td>4.119346</td>\n",
       "      <td>3.039945</td>\n",
       "      <td>2.355874</td>\n",
       "      <td>4.349379</td>\n",
       "      <td>4.417916</td>\n",
       "    </tr>\n",
       "    <tr>\n",
       "      <th>2520</th>\n",
       "      <td>2.486907</td>\n",
       "      <td>4.106397</td>\n",
       "      <td>3.554692</td>\n",
       "      <td>2.990848</td>\n",
       "      <td>2.738853</td>\n",
       "      <td>3.809369</td>\n",
       "      <td>5.070707</td>\n",
       "      <td>1.979323</td>\n",
       "      <td>5.011975</td>\n",
       "      <td>4.451860</td>\n",
       "      <td>...</td>\n",
       "      <td>2.889167</td>\n",
       "      <td>3.450196</td>\n",
       "      <td>2.025962</td>\n",
       "      <td>3.449859</td>\n",
       "      <td>3.310554</td>\n",
       "      <td>4.075108</td>\n",
       "      <td>3.031282</td>\n",
       "      <td>2.360015</td>\n",
       "      <td>4.314838</td>\n",
       "      <td>4.360040</td>\n",
       "    </tr>\n",
       "  </tbody>\n",
       "</table>\n",
       "<p>2521 rows × 500 columns</p>\n",
       "</div>"
      ],
      "text/plain": [
       "           0         1         2         3         4         5         6    \\\n",
       "0     1.000000  1.000000  1.000000  1.000000  1.000000  1.000000  1.000000   \n",
       "1     1.015346  0.997194  0.995166  0.993433  1.000606  0.998749  1.009886   \n",
       "2     1.028168  0.997180  1.003863  1.001440  1.004213  1.009270  1.015837   \n",
       "3     1.027683  1.011865  1.020582  0.989493  1.001600  1.005970  1.015501   \n",
       "4     1.035912  1.008616  1.005347  0.980931  1.014801  1.007823  1.004646   \n",
       "...        ...       ...       ...       ...       ...       ...       ...   \n",
       "2516  2.526978  4.095963  3.569610  2.984334  2.755548  3.714752  5.140120   \n",
       "2517  2.502138  4.089611  3.589710  3.006541  2.765283  3.749166  5.121293   \n",
       "2518  2.490648  4.079156  3.582531  2.999825  2.751623  3.765344  5.108846   \n",
       "2519  2.505430  4.063975  3.573077  2.995917  2.738564  3.814616  5.069526   \n",
       "2520  2.486907  4.106397  3.554692  2.990848  2.738853  3.809369  5.070707   \n",
       "\n",
       "           7         8         9    ...       490       491       492  \\\n",
       "0     1.000000  1.000000  1.000000  ...  1.000000  1.000000  1.000000   \n",
       "1     1.005265  1.007107  1.001591  ...  1.009539  0.995246  0.997318   \n",
       "2     1.003611  1.005466  0.994978  ...  1.011906  0.998303  1.001365   \n",
       "3     0.998054  1.005587  0.989895  ...  1.009636  1.000401  0.998557   \n",
       "4     1.001261  1.005030  0.997488  ...  1.009284  1.005877  0.993016   \n",
       "...        ...       ...       ...  ...       ...       ...       ...   \n",
       "2516  1.922195  5.110243  4.354182  ...  2.868496  3.471457  2.009576   \n",
       "2517  1.925413  5.046435  4.376933  ...  2.863390  3.466384  2.017555   \n",
       "2518  1.967620  5.023329  4.392627  ...  2.874347  3.465192  2.011705   \n",
       "2519  1.993344  4.991439  4.405615  ...  2.870670  3.478264  2.014236   \n",
       "2520  1.979323  5.011975  4.451860  ...  2.889167  3.450196  2.025962   \n",
       "\n",
       "           493       494       495       496       497       498       499  \n",
       "0     1.000000  1.000000  1.000000  1.000000  1.000000  1.000000  1.000000  \n",
       "1     0.990760  1.001082  1.001760  1.007415  1.002890  0.984415  1.000270  \n",
       "2     0.976606  1.004907  1.010471  0.997363  1.003758  0.989770  1.004506  \n",
       "3     0.971407  1.004933  0.999748  0.999305  1.011954  0.987767  1.002813  \n",
       "4     0.971195  1.003479  0.999532  0.995821  1.019327  0.983640  1.004821  \n",
       "...        ...       ...       ...       ...       ...       ...       ...  \n",
       "2516  3.419293  3.398295  4.166072  3.040963  2.325057  4.342693  4.369368  \n",
       "2517  3.431182  3.380194  4.099272  3.011065  2.329125  4.328733  4.431980  \n",
       "2518  3.426268  3.365099  4.104454  3.062699  2.347123  4.349875  4.447103  \n",
       "2519  3.448058  3.326879  4.119346  3.039945  2.355874  4.349379  4.417916  \n",
       "2520  3.449859  3.310554  4.075108  3.031282  2.360015  4.314838  4.360040  \n",
       "\n",
       "[2521 rows x 500 columns]"
      ]
     },
     "execution_count": 143,
     "metadata": {},
     "output_type": "execute_result"
    }
   ],
   "source": [
    "# Run the Monte Carlo simulation to forecast 10 years cumulative returns\n",
    "ten_year_sumulation.calc_cumulative_return()"
   ]
  },
  {
   "cell_type": "code",
   "execution_count": 144,
   "metadata": {},
   "outputs": [
    {
     "data": {
      "text/plain": [
       "<AxesSubplot:title={'center':'500 Simulations of Cumulative Portfolio Return Trajectories Over the Next 2520 Trading Days.'}>"
      ]
     },
     "execution_count": 144,
     "metadata": {},
     "output_type": "execute_result"
    },
    {
     "data": {
      "image/png": "[encoded data removed]",
      "text/plain": [
       "<Figure size 432x288 with 1 Axes>"
      ]
     },
     "metadata": {
      "needs_background": "light"
     },
     "output_type": "display_data"
    }
   ],
   "source": [
    "# Visualize the 10-year Monte Carlo simulation by creating an\n",
    "# overlay line plot\n",
    "ten_year_sumulation.plot_simulation()"
   ]
  },
  {
   "cell_type": "code",
   "execution_count": 145,
   "metadata": {},
   "outputs": [
    {
     "data": {
      "text/plain": [
       "<AxesSubplot:title={'center':'Distribution of Final Cumuluative Returns Across All 500 Simulations'}, ylabel='Frequency'>"
      ]
     },
     "execution_count": 145,
     "metadata": {},
     "output_type": "execute_result"
    },
    {
     "data": {
      "image/png": "[encoded data removed]",
      "text/plain": [
       "<Figure size 432x288 with 1 Axes>"
      ]
     },
     "metadata": {
      "needs_background": "light"
     },
     "output_type": "display_data"
    }
   ],
   "source": [
    "# Visualize the probability distribution of the 10-year Monte Carlo simulation \n",
    "# by plotting a histogram\n",
    "thirty_year_sumulation.plot_distribution()"
   ]
  },
  {
   "cell_type": "code",
   "execution_count": 147,
   "metadata": {},
   "outputs": [
    {
     "name": "stdout",
     "output_type": "stream",
     "text": [
      "count           500.000000\n",
      "mean              3.109561\n",
      "std               1.135120\n",
      "min               0.865722\n",
      "25%               2.319733\n",
      "50%               2.916270\n",
      "75%               3.723465\n",
      "max               7.639483\n",
      "95% CI Lower      1.435411\n",
      "95% CI Upper      5.774754\n",
      "Name: 2520, dtype: float64\n"
     ]
    }
   ],
   "source": [
    "# Generate summary statistics from the 10-year Monte Carlo simulation results\n",
    "# Save the results as a variable\n",
    "ten_year_simulation_statistics = ten_year_sumulation.summarize_cumulative_return()\n",
    "\n",
    "# Review the 10-year Monte Carlo summary statistics\n",
    "print(ten_year_simulation_statistics)"
   ]
  },
  {
   "cell_type": "markdown",
   "metadata": {},
   "source": [
    "### Answer the following questions:"
   ]
  },
  {
   "cell_type": "markdown",
   "metadata": {},
   "source": [
    "#### Question: Using the current value of only the stock and bond portion of the member's portfolio and the summary statistics that you generated from the new Monte Carlo simulation, what are the lower and upper bounds for the expected value of the portfolio (with the new weights) with a 95% confidence interval?"
   ]
  },
  {
   "cell_type": "code",
   "execution_count": 151,
   "metadata": {},
   "outputs": [
    {
     "name": "stdout",
     "output_type": "stream",
     "text": [
      "The current balance of the stock and bond portion of the portfolio is $75053.6\n"
     ]
    }
   ],
   "source": [
    "# Print the current balance of the stock and bond portion of the members portfolio\n",
    "print(f\"The current balance of the stock and bond portion of the portfolio is ${total_stocks_bonds}\")"
   ]
  },
  {
   "cell_type": "code",
   "execution_count": 150,
   "metadata": {},
   "outputs": [
    {
     "name": "stdout",
     "output_type": "stream",
     "text": [
      "There is a 95% chance that the current balance of the stock and bond portion in the portfolio over the next 10 years will end within in the range of $107732.8 and $433416.05.\n"
     ]
    }
   ],
   "source": [
    "# Use the lower and upper `95%` confidence intervals to calculate the range of the possible outcomes for the current stock/bond portfolio\n",
    "ci_lower_ten_cumulative_return = round(ten_year_simulation_statistics[8]*total_stocks_bonds,2)\n",
    "ci_upper_ten_cumulative_return = round(ten_year_simulation_statistics[9]*total_stocks_bonds,2)\n",
    "\n",
    "# Print the result of your calculations\n",
    "print(f\"There is a 95% chance that the current balance of the stock and bond portion in the portfolio\"\n",
    "      f\" over the next 10 years will end within in the range of\"\n",
    "      f\" ${ci_lower_ten_cumulative_return} and ${ci_upper_ten_cumulative_return}.\")"
   ]
  },
  {
   "cell_type": "markdown",
   "metadata": {},
   "source": [
    "#### Question: Will weighting the portfolio more heavily to stocks allow the credit union members to retire after only 10 years?"
   ]
  },
  {
   "cell_type": "raw",
   "metadata": {},
   "source": [
    "**Answer** # After thorough analysis of weighting the portfolio more heavily to stocks to figure out whether the credit union members are able to retire after only 10 years depends on the individual and how much they are comfortable with making. "
   ]
  },
  {
   "cell_type": "code",
   "execution_count": null,
   "metadata": {},
   "outputs": [],
   "source": []
  }
 ],
 "metadata": {
  "kernelspec": {
   "display_name": "Python 3 (ipykernel)",
   "language": "python",
   "name": "python3"
  },
  "language_info": {
   "codemirror_mode": {
    "name": "ipython",
    "version": 3
   },
   "file_extension": ".py",
   "mimetype": "text/x-python",
   "name": "python",
   "nbconvert_exporter": "python",
   "pygments_lexer": "ipython3",
   "version": "3.8.8"
  }
 },
 "nbformat": 4,
 "nbformat_minor": 4
}
